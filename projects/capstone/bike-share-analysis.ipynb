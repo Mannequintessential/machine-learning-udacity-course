{
 "cells": [
  {
   "cell_type": "markdown",
   "metadata": {},
   "source": [
    "# Austin Bike Share Daily Rental Predictions\n",
    "The goal of this project is to take data provided by Austin Bike Share from 2013 to 2017 and predict what the daily rentals will be at a given bike share station. The predictions will be tested on the provided data in 2017 and the training/validation will be done on the data for 2013-2016. \n"
   ]
  },
  {
   "cell_type": "markdown",
   "metadata": {},
   "source": [
    "## Preprocessing Data\n",
    "data here will be preprocessed to get a good bird`s eye view of the trends and patterns. "
   ]
  },
  {
   "cell_type": "code",
   "execution_count": 4,
   "metadata": {},
   "outputs": [
    {
     "name": "stdout",
     "output_type": "stream",
     "text": [
      "austin_bikeshare_stations.csv\n",
      "austin_bikeshare_trips.csv\n",
      "austin_weather.csv\n",
      "\n"
     ]
    }
   ],
   "source": [
    "import numpy as np # linear algebra\n",
    "import pandas as pd # data processing, CSV file I/O (e.g. pd.read_csv)\n",
    "import sklearn as sk # SkLearn ML library\n",
    "from sklearn.model_selection import train_test_split\n",
    "from sklearn import linear_model\n",
    "from sklearn.model_selection import cross_val_score\n",
    "import seaborn as sns\n",
    "import requests\n",
    "from datetime import datetime\n",
    "\n",
    "# Input data files are available in the \"austin-bike\" directory.\n",
    "# For example, running this (by clicking run or pressing Shift+Enter) will list the files in the input directory\n",
    "\n",
    "\n",
    "from subprocess import check_output\n",
    "print(check_output([\"ls\", \"austin-bike\"]).decode(\"utf8\"))\n",
    "\n",
    "# Any results you write to the current directory are saved as output."
   ]
  },
  {
   "cell_type": "code",
   "execution_count": 5,
   "metadata": {},
   "outputs": [],
   "source": [
    "# load data in \n",
    "\n",
    "trips = pd.read_csv('austin-bike/austin_bikeshare_trips.csv')\n",
    "stations = pd.read_csv('austin-bike/austin_bikeshare_stations.csv')\n"
   ]
  },
  {
   "cell_type": "code",
   "execution_count": 6,
   "metadata": {},
   "outputs": [],
   "source": [
    "weather = pd.read_csv('austin-bike/austin_weather.csv')\n"
   ]
  },
  {
   "cell_type": "code",
   "execution_count": 7,
   "metadata": {
    "scrolled": true
   },
   "outputs": [
    {
     "data": {
      "text/html": [
       "<div>\n",
       "<style scoped>\n",
       "    .dataframe tbody tr th:only-of-type {\n",
       "        vertical-align: middle;\n",
       "    }\n",
       "\n",
       "    .dataframe tbody tr th {\n",
       "        vertical-align: top;\n",
       "    }\n",
       "\n",
       "    .dataframe thead th {\n",
       "        text-align: right;\n",
       "    }\n",
       "</style>\n",
       "<table border=\"1\" class=\"dataframe\">\n",
       "  <thead>\n",
       "    <tr style=\"text-align: right;\">\n",
       "      <th></th>\n",
       "      <th>bikeid</th>\n",
       "      <th>checkout_time</th>\n",
       "      <th>duration_minutes</th>\n",
       "      <th>end_station_id</th>\n",
       "      <th>end_station_name</th>\n",
       "      <th>month</th>\n",
       "      <th>start_station_id</th>\n",
       "      <th>start_station_name</th>\n",
       "      <th>start_time</th>\n",
       "      <th>subscriber_type</th>\n",
       "      <th>trip_id</th>\n",
       "      <th>year</th>\n",
       "    </tr>\n",
       "  </thead>\n",
       "  <tbody>\n",
       "    <tr>\n",
       "      <th>0</th>\n",
       "      <td>8.0</td>\n",
       "      <td>19:12:00</td>\n",
       "      <td>41</td>\n",
       "      <td>2565.0</td>\n",
       "      <td>Trinity &amp; 6th Street</td>\n",
       "      <td>3.0</td>\n",
       "      <td>2536.0</td>\n",
       "      <td>Waller &amp; 6th St.</td>\n",
       "      <td>2015-03-19 19:12:00</td>\n",
       "      <td>Walk Up</td>\n",
       "      <td>9900082882</td>\n",
       "      <td>2015.0</td>\n",
       "    </tr>\n",
       "    <tr>\n",
       "      <th>1</th>\n",
       "      <td>141.0</td>\n",
       "      <td>2:06:04</td>\n",
       "      <td>6</td>\n",
       "      <td>2570.0</td>\n",
       "      <td>South Congress &amp; Academy</td>\n",
       "      <td>10.0</td>\n",
       "      <td>2494.0</td>\n",
       "      <td>2nd &amp; Congress</td>\n",
       "      <td>2016-10-30 02:06:04</td>\n",
       "      <td>Local365</td>\n",
       "      <td>12617682</td>\n",
       "      <td>2016.0</td>\n",
       "    </tr>\n",
       "    <tr>\n",
       "      <th>2</th>\n",
       "      <td>578.0</td>\n",
       "      <td>16:28:27</td>\n",
       "      <td>13</td>\n",
       "      <td>2498.0</td>\n",
       "      <td>Convention Center / 4th St. @ MetroRail</td>\n",
       "      <td>3.0</td>\n",
       "      <td>2538.0</td>\n",
       "      <td>Bullock Museum @ Congress &amp; MLK</td>\n",
       "      <td>2016-03-11 16:28:27</td>\n",
       "      <td>Local365</td>\n",
       "      <td>9075366</td>\n",
       "      <td>2016.0</td>\n",
       "    </tr>\n",
       "    <tr>\n",
       "      <th>3</th>\n",
       "      <td>555.0</td>\n",
       "      <td>15:12:00</td>\n",
       "      <td>80</td>\n",
       "      <td>2712.0</td>\n",
       "      <td>Toomey Rd @ South Lamar</td>\n",
       "      <td>11.0</td>\n",
       "      <td>2497.0</td>\n",
       "      <td>Capitol Station / Congress &amp; 11th</td>\n",
       "      <td>2014-11-23 15:12:00</td>\n",
       "      <td>24-Hour Kiosk (Austin B-cycle)</td>\n",
       "      <td>9900319298</td>\n",
       "      <td>2014.0</td>\n",
       "    </tr>\n",
       "    <tr>\n",
       "      <th>4</th>\n",
       "      <td>86.0</td>\n",
       "      <td>15:39:13</td>\n",
       "      <td>25</td>\n",
       "      <td>3377.0</td>\n",
       "      <td>MoPac Pedestrian Bridge @ Veterans Drive</td>\n",
       "      <td>4.0</td>\n",
       "      <td>2707.0</td>\n",
       "      <td>Rainey St @ Cummings</td>\n",
       "      <td>2017-04-16 15:39:13</td>\n",
       "      <td>Walk Up</td>\n",
       "      <td>14468597</td>\n",
       "      <td>2017.0</td>\n",
       "    </tr>\n",
       "  </tbody>\n",
       "</table>\n",
       "</div>"
      ],
      "text/plain": [
       "   bikeid checkout_time  duration_minutes  end_station_id  \\\n",
       "0     8.0      19:12:00                41          2565.0   \n",
       "1   141.0       2:06:04                 6          2570.0   \n",
       "2   578.0      16:28:27                13          2498.0   \n",
       "3   555.0      15:12:00                80          2712.0   \n",
       "4    86.0      15:39:13                25          3377.0   \n",
       "\n",
       "                           end_station_name  month  start_station_id  \\\n",
       "0                      Trinity & 6th Street    3.0            2536.0   \n",
       "1                  South Congress & Academy   10.0            2494.0   \n",
       "2   Convention Center / 4th St. @ MetroRail    3.0            2538.0   \n",
       "3                   Toomey Rd @ South Lamar   11.0            2497.0   \n",
       "4  MoPac Pedestrian Bridge @ Veterans Drive    4.0            2707.0   \n",
       "\n",
       "                  start_station_name           start_time  \\\n",
       "0                   Waller & 6th St.  2015-03-19 19:12:00   \n",
       "1                     2nd & Congress  2016-10-30 02:06:04   \n",
       "2    Bullock Museum @ Congress & MLK  2016-03-11 16:28:27   \n",
       "3  Capitol Station / Congress & 11th  2014-11-23 15:12:00   \n",
       "4               Rainey St @ Cummings  2017-04-16 15:39:13   \n",
       "\n",
       "                  subscriber_type     trip_id    year  \n",
       "0                         Walk Up  9900082882  2015.0  \n",
       "1                        Local365    12617682  2016.0  \n",
       "2                        Local365     9075366  2016.0  \n",
       "3  24-Hour Kiosk (Austin B-cycle)  9900319298  2014.0  \n",
       "4                         Walk Up    14468597  2017.0  "
      ]
     },
     "execution_count": 7,
     "metadata": {},
     "output_type": "execute_result"
    }
   ],
   "source": [
    "trips.head()"
   ]
  },
  {
   "cell_type": "code",
   "execution_count": 8,
   "metadata": {
    "scrolled": true
   },
   "outputs": [
    {
     "data": {
      "text/html": [
       "<div>\n",
       "<style scoped>\n",
       "    .dataframe tbody tr th:only-of-type {\n",
       "        vertical-align: middle;\n",
       "    }\n",
       "\n",
       "    .dataframe tbody tr th {\n",
       "        vertical-align: top;\n",
       "    }\n",
       "\n",
       "    .dataframe thead th {\n",
       "        text-align: right;\n",
       "    }\n",
       "</style>\n",
       "<table border=\"1\" class=\"dataframe\">\n",
       "  <thead>\n",
       "    <tr style=\"text-align: right;\">\n",
       "      <th></th>\n",
       "      <th>latitude</th>\n",
       "      <th>location</th>\n",
       "      <th>longitude</th>\n",
       "      <th>name</th>\n",
       "      <th>station_id</th>\n",
       "      <th>status</th>\n",
       "    </tr>\n",
       "  </thead>\n",
       "  <tbody>\n",
       "    <tr>\n",
       "      <th>0</th>\n",
       "      <td>30.27041</td>\n",
       "      <td>(30.27041 -97.75046)</td>\n",
       "      <td>-97.75046</td>\n",
       "      <td>West &amp; 6th St.</td>\n",
       "      <td>2537</td>\n",
       "      <td>active</td>\n",
       "    </tr>\n",
       "    <tr>\n",
       "      <th>1</th>\n",
       "      <td>30.26452</td>\n",
       "      <td>(30.26452 -97.7712)</td>\n",
       "      <td>-97.77120</td>\n",
       "      <td>Barton Springs Pool</td>\n",
       "      <td>2572</td>\n",
       "      <td>active</td>\n",
       "    </tr>\n",
       "    <tr>\n",
       "      <th>2</th>\n",
       "      <td>30.27595</td>\n",
       "      <td>(30.27595 -97.74739)</td>\n",
       "      <td>-97.74739</td>\n",
       "      <td>ACC - Rio Grande &amp; 12th</td>\n",
       "      <td>2545</td>\n",
       "      <td>closed</td>\n",
       "    </tr>\n",
       "    <tr>\n",
       "      <th>3</th>\n",
       "      <td>30.28480</td>\n",
       "      <td>(30.2848 -97.72756)</td>\n",
       "      <td>-97.72756</td>\n",
       "      <td>Red River &amp; LBJ Library</td>\n",
       "      <td>1004</td>\n",
       "      <td>closed</td>\n",
       "    </tr>\n",
       "    <tr>\n",
       "      <th>4</th>\n",
       "      <td>30.26694</td>\n",
       "      <td>(30.26694 -97.74939)</td>\n",
       "      <td>-97.74939</td>\n",
       "      <td>Nueces @ 3rd</td>\n",
       "      <td>1008</td>\n",
       "      <td>moved</td>\n",
       "    </tr>\n",
       "  </tbody>\n",
       "</table>\n",
       "</div>"
      ],
      "text/plain": [
       "   latitude              location  longitude                     name  \\\n",
       "0  30.27041  (30.27041 -97.75046)  -97.75046           West & 6th St.   \n",
       "1  30.26452   (30.26452 -97.7712)  -97.77120      Barton Springs Pool   \n",
       "2  30.27595  (30.27595 -97.74739)  -97.74739  ACC - Rio Grande & 12th   \n",
       "3  30.28480   (30.2848 -97.72756)  -97.72756  Red River & LBJ Library   \n",
       "4  30.26694  (30.26694 -97.74939)  -97.74939             Nueces @ 3rd   \n",
       "\n",
       "   station_id  status  \n",
       "0        2537  active  \n",
       "1        2572  active  \n",
       "2        2545  closed  \n",
       "3        1004  closed  \n",
       "4        1008   moved  "
      ]
     },
     "execution_count": 8,
     "metadata": {},
     "output_type": "execute_result"
    }
   ],
   "source": [
    "stations.head()"
   ]
  },
  {
   "cell_type": "code",
   "execution_count": 9,
   "metadata": {},
   "outputs": [
    {
     "data": {
      "text/html": [
       "<div>\n",
       "<style scoped>\n",
       "    .dataframe tbody tr th:only-of-type {\n",
       "        vertical-align: middle;\n",
       "    }\n",
       "\n",
       "    .dataframe tbody tr th {\n",
       "        vertical-align: top;\n",
       "    }\n",
       "\n",
       "    .dataframe thead th {\n",
       "        text-align: right;\n",
       "    }\n",
       "</style>\n",
       "<table border=\"1\" class=\"dataframe\">\n",
       "  <thead>\n",
       "    <tr style=\"text-align: right;\">\n",
       "      <th></th>\n",
       "      <th>Date</th>\n",
       "      <th>TempHighF</th>\n",
       "      <th>TempAvgF</th>\n",
       "      <th>TempLowF</th>\n",
       "      <th>DewPointHighF</th>\n",
       "      <th>DewPointAvgF</th>\n",
       "      <th>DewPointLowF</th>\n",
       "      <th>HumidityHighPercent</th>\n",
       "      <th>HumidityAvgPercent</th>\n",
       "      <th>HumidityLowPercent</th>\n",
       "      <th>...</th>\n",
       "      <th>SeaLevelPressureAvgInches</th>\n",
       "      <th>SeaLevelPressureLowInches</th>\n",
       "      <th>VisibilityHighMiles</th>\n",
       "      <th>VisibilityAvgMiles</th>\n",
       "      <th>VisibilityLowMiles</th>\n",
       "      <th>WindHighMPH</th>\n",
       "      <th>WindAvgMPH</th>\n",
       "      <th>WindGustMPH</th>\n",
       "      <th>PrecipitationSumInches</th>\n",
       "      <th>Events</th>\n",
       "    </tr>\n",
       "  </thead>\n",
       "  <tbody>\n",
       "    <tr>\n",
       "      <th>0</th>\n",
       "      <td>2013-12-21</td>\n",
       "      <td>74</td>\n",
       "      <td>60</td>\n",
       "      <td>45</td>\n",
       "      <td>67</td>\n",
       "      <td>49</td>\n",
       "      <td>43</td>\n",
       "      <td>93</td>\n",
       "      <td>75</td>\n",
       "      <td>57</td>\n",
       "      <td>...</td>\n",
       "      <td>29.68</td>\n",
       "      <td>29.59</td>\n",
       "      <td>10</td>\n",
       "      <td>7</td>\n",
       "      <td>2</td>\n",
       "      <td>20</td>\n",
       "      <td>4</td>\n",
       "      <td>31</td>\n",
       "      <td>0.46</td>\n",
       "      <td>Rain , Thunderstorm</td>\n",
       "    </tr>\n",
       "    <tr>\n",
       "      <th>1</th>\n",
       "      <td>2013-12-22</td>\n",
       "      <td>56</td>\n",
       "      <td>48</td>\n",
       "      <td>39</td>\n",
       "      <td>43</td>\n",
       "      <td>36</td>\n",
       "      <td>28</td>\n",
       "      <td>93</td>\n",
       "      <td>68</td>\n",
       "      <td>43</td>\n",
       "      <td>...</td>\n",
       "      <td>30.13</td>\n",
       "      <td>29.87</td>\n",
       "      <td>10</td>\n",
       "      <td>10</td>\n",
       "      <td>5</td>\n",
       "      <td>16</td>\n",
       "      <td>6</td>\n",
       "      <td>25</td>\n",
       "      <td>0</td>\n",
       "      <td></td>\n",
       "    </tr>\n",
       "    <tr>\n",
       "      <th>2</th>\n",
       "      <td>2013-12-23</td>\n",
       "      <td>58</td>\n",
       "      <td>45</td>\n",
       "      <td>32</td>\n",
       "      <td>31</td>\n",
       "      <td>27</td>\n",
       "      <td>23</td>\n",
       "      <td>76</td>\n",
       "      <td>52</td>\n",
       "      <td>27</td>\n",
       "      <td>...</td>\n",
       "      <td>30.49</td>\n",
       "      <td>30.41</td>\n",
       "      <td>10</td>\n",
       "      <td>10</td>\n",
       "      <td>10</td>\n",
       "      <td>8</td>\n",
       "      <td>3</td>\n",
       "      <td>12</td>\n",
       "      <td>0</td>\n",
       "      <td></td>\n",
       "    </tr>\n",
       "    <tr>\n",
       "      <th>3</th>\n",
       "      <td>2013-12-24</td>\n",
       "      <td>61</td>\n",
       "      <td>46</td>\n",
       "      <td>31</td>\n",
       "      <td>36</td>\n",
       "      <td>28</td>\n",
       "      <td>21</td>\n",
       "      <td>89</td>\n",
       "      <td>56</td>\n",
       "      <td>22</td>\n",
       "      <td>...</td>\n",
       "      <td>30.45</td>\n",
       "      <td>30.3</td>\n",
       "      <td>10</td>\n",
       "      <td>10</td>\n",
       "      <td>7</td>\n",
       "      <td>12</td>\n",
       "      <td>4</td>\n",
       "      <td>20</td>\n",
       "      <td>0</td>\n",
       "      <td></td>\n",
       "    </tr>\n",
       "    <tr>\n",
       "      <th>4</th>\n",
       "      <td>2013-12-25</td>\n",
       "      <td>58</td>\n",
       "      <td>50</td>\n",
       "      <td>41</td>\n",
       "      <td>44</td>\n",
       "      <td>40</td>\n",
       "      <td>36</td>\n",
       "      <td>86</td>\n",
       "      <td>71</td>\n",
       "      <td>56</td>\n",
       "      <td>...</td>\n",
       "      <td>30.33</td>\n",
       "      <td>30.27</td>\n",
       "      <td>10</td>\n",
       "      <td>10</td>\n",
       "      <td>7</td>\n",
       "      <td>10</td>\n",
       "      <td>2</td>\n",
       "      <td>16</td>\n",
       "      <td>T</td>\n",
       "      <td></td>\n",
       "    </tr>\n",
       "  </tbody>\n",
       "</table>\n",
       "<p>5 rows × 21 columns</p>\n",
       "</div>"
      ],
      "text/plain": [
       "         Date  TempHighF  TempAvgF  TempLowF DewPointHighF DewPointAvgF  \\\n",
       "0  2013-12-21         74        60        45            67           49   \n",
       "1  2013-12-22         56        48        39            43           36   \n",
       "2  2013-12-23         58        45        32            31           27   \n",
       "3  2013-12-24         61        46        31            36           28   \n",
       "4  2013-12-25         58        50        41            44           40   \n",
       "\n",
       "  DewPointLowF HumidityHighPercent HumidityAvgPercent HumidityLowPercent  \\\n",
       "0           43                  93                 75                 57   \n",
       "1           28                  93                 68                 43   \n",
       "2           23                  76                 52                 27   \n",
       "3           21                  89                 56                 22   \n",
       "4           36                  86                 71                 56   \n",
       "\n",
       "          ...          SeaLevelPressureAvgInches SeaLevelPressureLowInches  \\\n",
       "0         ...                              29.68                     29.59   \n",
       "1         ...                              30.13                     29.87   \n",
       "2         ...                              30.49                     30.41   \n",
       "3         ...                              30.45                      30.3   \n",
       "4         ...                              30.33                     30.27   \n",
       "\n",
       "  VisibilityHighMiles VisibilityAvgMiles VisibilityLowMiles WindHighMPH  \\\n",
       "0                  10                  7                  2          20   \n",
       "1                  10                 10                  5          16   \n",
       "2                  10                 10                 10           8   \n",
       "3                  10                 10                  7          12   \n",
       "4                  10                 10                  7          10   \n",
       "\n",
       "  WindAvgMPH WindGustMPH PrecipitationSumInches               Events  \n",
       "0          4          31                   0.46  Rain , Thunderstorm  \n",
       "1          6          25                      0                       \n",
       "2          3          12                      0                       \n",
       "3          4          20                      0                       \n",
       "4          2          16                      T                       \n",
       "\n",
       "[5 rows x 21 columns]"
      ]
     },
     "execution_count": 9,
     "metadata": {},
     "output_type": "execute_result"
    }
   ],
   "source": [
    "weather.head()"
   ]
  },
  {
   "cell_type": "markdown",
   "metadata": {},
   "source": [
    "Do a categorial encoding of weather events"
   ]
  },
  {
   "cell_type": "code",
   "execution_count": 10,
   "metadata": {},
   "outputs": [],
   "source": [
    "Rain = []\n",
    "Thunderstorm = []\n",
    "Fog = []\n",
    "Snow = []\n",
    "for row in weather['Events']:\n",
    "    if 'Rain' in row:\n",
    "        Rain.append(1)\n",
    "    else:\n",
    "        Rain.append(0)\n",
    "        \n",
    "    if 'Thunderstorm' in row:\n",
    "        Thunderstorm.append(1)\n",
    "    else:\n",
    "        Thunderstorm.append(0)\n",
    "        \n",
    "    if 'Fog' in row:\n",
    "        Fog.append(1)\n",
    "    else:\n",
    "        Fog.append(0)\n",
    "        \n",
    "    if 'Snow' in row:\n",
    "        Snow.append(1)\n",
    "    else:\n",
    "        Snow.append(0)\n",
    "weather['PrecipitationSumInches'] = np.where(weather['PrecipitationSumInches'] == 'T', 0.001, weather['PrecipitationSumInches'])\n",
    "weather['Rain'] = Rain\n",
    "weather['Thunderstorm'] = Thunderstorm\n",
    "weather['Fog'] = Fog\n",
    "weather['Snow'] = Snow"
   ]
  },
  {
   "cell_type": "code",
   "execution_count": 11,
   "metadata": {},
   "outputs": [
    {
     "ename": "AttributeError",
     "evalue": "'DataFrame' object has no attribute 'summary'",
     "output_type": "error",
     "traceback": [
      "\u001b[0;31m---------------------------------------------------------------------------\u001b[0m",
      "\u001b[0;31mAttributeError\u001b[0m                            Traceback (most recent call last)",
      "\u001b[0;32m<ipython-input-11-3c77b533d7e7>\u001b[0m in \u001b[0;36m<module>\u001b[0;34m()\u001b[0m\n\u001b[0;32m----> 1\u001b[0;31m \u001b[0mweather\u001b[0m\u001b[0;34m.\u001b[0m\u001b[0msummary\u001b[0m\u001b[0;34m(\u001b[0m\u001b[0;34m)\u001b[0m\u001b[0;34m\u001b[0m\u001b[0m\n\u001b[0m",
      "\u001b[0;32m/usr/local/lib/python3.6/site-packages/pandas/core/generic.py\u001b[0m in \u001b[0;36m__getattr__\u001b[0;34m(self, name)\u001b[0m\n\u001b[1;32m   3612\u001b[0m             \u001b[0;32mif\u001b[0m \u001b[0mname\u001b[0m \u001b[0;32min\u001b[0m \u001b[0mself\u001b[0m\u001b[0;34m.\u001b[0m\u001b[0m_info_axis\u001b[0m\u001b[0;34m:\u001b[0m\u001b[0;34m\u001b[0m\u001b[0m\n\u001b[1;32m   3613\u001b[0m                 \u001b[0;32mreturn\u001b[0m \u001b[0mself\u001b[0m\u001b[0;34m[\u001b[0m\u001b[0mname\u001b[0m\u001b[0;34m]\u001b[0m\u001b[0;34m\u001b[0m\u001b[0m\n\u001b[0;32m-> 3614\u001b[0;31m             \u001b[0;32mreturn\u001b[0m \u001b[0mobject\u001b[0m\u001b[0;34m.\u001b[0m\u001b[0m__getattribute__\u001b[0m\u001b[0;34m(\u001b[0m\u001b[0mself\u001b[0m\u001b[0;34m,\u001b[0m \u001b[0mname\u001b[0m\u001b[0;34m)\u001b[0m\u001b[0;34m\u001b[0m\u001b[0m\n\u001b[0m\u001b[1;32m   3615\u001b[0m \u001b[0;34m\u001b[0m\u001b[0m\n\u001b[1;32m   3616\u001b[0m     \u001b[0;32mdef\u001b[0m \u001b[0m__setattr__\u001b[0m\u001b[0;34m(\u001b[0m\u001b[0mself\u001b[0m\u001b[0;34m,\u001b[0m \u001b[0mname\u001b[0m\u001b[0;34m,\u001b[0m \u001b[0mvalue\u001b[0m\u001b[0;34m)\u001b[0m\u001b[0;34m:\u001b[0m\u001b[0;34m\u001b[0m\u001b[0m\n",
      "\u001b[0;31mAttributeError\u001b[0m: 'DataFrame' object has no attribute 'summary'"
     ]
    }
   ],
   "source": [
    "weather.summary()"
   ]
  },
  {
   "cell_type": "markdown",
   "metadata": {},
   "source": [
    "## Station Analysis\n",
    "this section will look at trends for the stations"
   ]
  },
  {
   "cell_type": "code",
   "execution_count": 12,
   "metadata": {},
   "outputs": [
    {
     "name": "stdout",
     "output_type": "stream",
     "text": [
      "Index(['Riverside @ S. Lamar', 'City Hall / Lavaca & 2nd', '5th & Bowie',\n",
      "       '2nd & Congress', '4th & Congress'],\n",
      "      dtype='object')\n",
      "total stations that have had bikes rented from are:  90\n",
      "total number of rentals in the dataset are:  649231\n"
     ]
    }
   ],
   "source": [
    "# calculate the lifetime rentals of each station\n",
    "start_station_usage = trips.start_station_name.value_counts()\n",
    "top5Stations = start_station_usage.index[:5]\n",
    "print(top5Stations)\n",
    "\n",
    "# count the number of stations that have been used\n",
    "print(\"total stations that have had bikes rented from are: \", len(start_station_usage))\n",
    "\n",
    "# count the number of lifetime rentals\n",
    "print(\"total number of rentals in the dataset are: \", len(trips))"
   ]
  },
  {
   "cell_type": "markdown",
   "metadata": {},
   "source": [
    "## Day of Week Analysis"
   ]
  },
  {
   "cell_type": "code",
   "execution_count": 13,
   "metadata": {},
   "outputs": [],
   "source": [
    "# calculate bike rentals by day of the week\n",
    "import calendar\n",
    "trips['dayofweek'] = pd.to_datetime(trips.start_time).dt.dayofweek\n",
    "\n",
    "dayofweek_counts = trips.dayofweek.value_counts()"
   ]
  },
  {
   "cell_type": "code",
   "execution_count": 14,
   "metadata": {},
   "outputs": [
    {
     "name": "stdout",
     "output_type": "stream",
     "text": [
      "5    140846\n",
      "6    114337\n",
      "4    102187\n",
      "0     77707\n",
      "3     75704\n",
      "2     70007\n",
      "1     68443\n",
      "Name: dayofweek, dtype: int64\n"
     ]
    },
    {
     "data": {
      "image/png": "[encoded data removed]",
      "text/plain": [
       "<matplotlib.figure.Figure at 0x111701a58>"
      ]
     },
     "metadata": {},
     "output_type": "display_data"
    }
   ],
   "source": [
    "# plot the day of the week rental distribution\n",
    "import matplotlib.pyplot as plt\n",
    "print(dayofweek_counts)\n",
    "dayofweek_counts = dayofweek_counts.sort_index()\n",
    "daysofweek = ('Mon','Tues','Wed','Thurs','Fri','Sat','Sun')\n",
    "y_pos = np.arange(len(daysofweek))\n",
    "plt.bar(y_pos,dayofweek_counts)\n",
    "plt.xticks(y_pos, daysofweek)\n",
    "plt.title('day of the week rental distribution')\n",
    "plt.ylabel('number of rentals')\n",
    "plt.xlabel('day of the week')\n",
    "plt.show()\n"
   ]
  },
  {
   "cell_type": "markdown",
   "metadata": {},
   "source": [
    "This shows that Friday, Saturday, Sunday had the highest usage. This seems to make sense as I assume the primary use would be for recreational transportation. If people were using these bikes ore than 5 times a week, it may become more cost efficient just to purchase a bike to own. But if people are using them once or twice a week to get to areas where automobile parking is scarce, such as shopping districts, it may be easier to use the bike share. "
   ]
  },
  {
   "cell_type": "code",
   "execution_count": 12,
   "metadata": {},
   "outputs": [
    {
     "name": "stdout",
     "output_type": "stream",
     "text": [
      "135483\n"
     ]
    }
   ],
   "source": [
    "top5StationTrips = trips[trips['start_station_name'].isin(top5Stations)]\n",
    "# print(top5StationTrips)\n",
    "print(len(top5StationTrips))"
   ]
  },
  {
   "cell_type": "markdown",
   "metadata": {},
   "source": [
    "When we trim our dataset down to only rentals from the 5 most popular bike share rental stations, we trim our dataset by almost a fifth. To put into perspective, 5 out of 71 (or roughly 7%) unique stations contribute to over 20% of the bike share demand! "
   ]
  },
  {
   "cell_type": "code",
   "execution_count": 13,
   "metadata": {},
   "outputs": [
    {
     "name": "stdout",
     "output_type": "stream",
     "text": [
      "0    17155\n",
      "1    15266\n",
      "2    15552\n",
      "3    16327\n",
      "4    20776\n",
      "5    27004\n",
      "6    23403\n",
      "Name: dayofweek, dtype: int64\n"
     ]
    },
    {
     "data": {
      "image/png": "[encoded data removed]",
      "text/plain": [
       "<matplotlib.figure.Figure at 0x104646da0>"
      ]
     },
     "metadata": {},
     "output_type": "display_data"
    }
   ],
   "source": [
    "dayofweek_top5counts = top5StationTrips.dayofweek.value_counts()\n",
    "dayofweek_top5counts = dayofweek_top5counts.sort_index()\n",
    "\n",
    "print(dayofweek_top5counts)\n",
    "daysofweek = ('Mon','Tues','Wed','Thurs','Fri','Sat','Sun')\n",
    "\n",
    "y_pos = np.arange(len(daysofweek))\n",
    "plt.bar(y_pos,dayofweek_top5counts)\n",
    "plt.xticks(y_pos, daysofweek)\n",
    "plt.title('day of the week rental distribution')\n",
    "plt.xlabel('number of rentals')\n",
    "plt.ylabel('day of the week')\n",
    "plt.show()"
   ]
  },
  {
   "cell_type": "markdown",
   "metadata": {},
   "source": [
    "The same day of week distributions of the top 5 stations show a very similar distribution as the total. Cool. "
   ]
  },
  {
   "cell_type": "markdown",
   "metadata": {},
   "source": [
    "## Monthly bike rental analysis\n"
   ]
  },
  {
   "cell_type": "code",
   "execution_count": 15,
   "metadata": {},
   "outputs": [
    {
     "data": {
      "image/png": "[encoded data removed]",
      "text/plain": [
       "<matplotlib.figure.Figure at 0x118bfca58>"
      ]
     },
     "metadata": {},
     "output_type": "display_data"
    }
   ],
   "source": [
    "# get monthly totals\n",
    "monthlyCounts = trips.month.value_counts().sort_index()\n",
    "monthNames = ('Jan','Feb','Mar','Apr','May','Jun','Jul','Aug','Sep','Oct','Nov','Dec')\n",
    "\n",
    "y_pos = np.arange(len(monthNames))\n",
    "plt.bar(y_pos,monthlyCounts)\n",
    "plt.xticks(y_pos, monthNames)\n",
    "plt.title('monthly rental distribution')\n",
    "plt.ylabel('number of rentals')\n",
    "plt.xlabel('month')\n",
    "plt.show()"
   ]
  },
  {
   "cell_type": "markdown",
   "metadata": {},
   "source": [
    "Wow, there is a big jump in rental usage in March. Followed by May and October. Let's split up the data for the month of March and see what we can find. "
   ]
  },
  {
   "cell_type": "code",
   "execution_count": 15,
   "metadata": {},
   "outputs": [
    {
     "name": "stdout",
     "output_type": "stream",
     "text": [
      "the standard deviation of data collected in March is : 1867.0288562312046\n"
     ]
    },
    {
     "data": {
      "image/png": "[encoded data removed]",
      "text/plain": [
       "<matplotlib.figure.Figure at 0x10b3762e8>"
      ]
     },
     "metadata": {},
     "output_type": "display_data"
    },
    {
     "data": {
      "image/png": "[encoded data removed]",
      "text/plain": [
       "<matplotlib.figure.Figure at 0x10b336c18>"
      ]
     },
     "metadata": {},
     "output_type": "display_data"
    }
   ],
   "source": [
    "# we want to see here what is so special about March. First we will look at the distribution of March by year vs. the\n",
    "# distribution of all the data by year. \n",
    "\n",
    "# this creates a subset of data that only contains rentals made in the month of March\n",
    "MarchTrips = trips[trips['month'] == 3.0]\n",
    "# print(MarchTrips)\n",
    "\n",
    "# count the total trips made in March per year\n",
    "MarchCounts = MarchTrips.year.value_counts().sort_index()\n",
    "# calculate the standard deviation of MarchTrips\n",
    "MarchCounts.stdev = np.std(MarchCounts)\n",
    "print(\"the standard deviation of data collected in March is :\",MarchCounts.stdev)\n",
    "# print(MarchCounts)\n",
    "yearNames = ('2014','2015','2016','2017')\n",
    "\n",
    "# create a bar plot of the data to represent the yearly distribution. \n",
    "y_pos = np.arange(len(yearNames))\n",
    "plt.bar(y_pos,MarchCounts)\n",
    "plt.xticks(y_pos, yearNames)\n",
    "plt.title('rental distribution in the month of March by year')\n",
    "plt.xlabel('year')\n",
    "plt.ylabel('number of rentals')\n",
    "plt.show()\n",
    "\n",
    "# count the total trips made per year\n",
    "yearlyCounts = trips.year.value_counts().sort_index()\n",
    "# print(yearlyCounts)\n",
    "yearNames = ('2013','2014','2015','2016','2017')\n",
    "\n",
    "# create a bar plot of the data to represent the yearly distribution. \n",
    "y_pos = np.arange(len(yearNames))\n",
    "plt.bar(y_pos, yearlyCounts)\n",
    "plt.xticks(y_pos, yearNames)\n",
    "plt.title('rental distribution by year')\n",
    "plt.xlabel('year')\n",
    "plt.ylabel('number of rentals')\n",
    "plt.show()"
   ]
  },
  {
   "cell_type": "markdown",
   "metadata": {},
   "source": [
    "We see here that there is very little change in usage by year for the month of March. When we compare to the entire dataset, we see a similar distribution for the years 2014-2016 but 2017 is much lower. The dataset only includes data through July 2017, so we should expect rentals for the year 2017 to be about half if monthly usage is consistent. But the for the month of March, we have a full dataset so its rental numbers are consistent with the years previous to it. In short, just looking at yearly data doesn't give us any key insights as to why March was such a high usage month. But it does tell us that there wasn't a promotion that ran for a March of a particular year that offset the average values. All the March reports were fairly similar, with a standard deviation of 1867, or less than 10%. Perhaps we can look at daily data instead to see if the peak is localized to a few days or if the whole month had consistently high usage. "
   ]
  },
  {
   "cell_type": "markdown",
   "metadata": {},
   "source": [
    "### Daily usage for the month of March - with a little preprocessing first\n",
    "while the month and year are given their own column in the dataframe, the day of the month is not. We will have to parse that from start_time. I will take some time to add the day of the month and time as their own columns to trips. "
   ]
  },
  {
   "cell_type": "code",
   "execution_count": 16,
   "metadata": {},
   "outputs": [
    {
     "data": {
      "text/html": [
       "<div>\n",
       "<style scoped>\n",
       "    .dataframe tbody tr th:only-of-type {\n",
       "        vertical-align: middle;\n",
       "    }\n",
       "\n",
       "    .dataframe tbody tr th {\n",
       "        vertical-align: top;\n",
       "    }\n",
       "\n",
       "    .dataframe thead th {\n",
       "        text-align: right;\n",
       "    }\n",
       "</style>\n",
       "<table border=\"1\" class=\"dataframe\">\n",
       "  <thead>\n",
       "    <tr style=\"text-align: right;\">\n",
       "      <th></th>\n",
       "      <th>bikeid</th>\n",
       "      <th>checkout_time</th>\n",
       "      <th>duration_minutes</th>\n",
       "      <th>end_station_id</th>\n",
       "      <th>end_station_name</th>\n",
       "      <th>month</th>\n",
       "      <th>start_station_id</th>\n",
       "      <th>start_station_name</th>\n",
       "      <th>start_time</th>\n",
       "      <th>subscriber_type</th>\n",
       "      <th>trip_id</th>\n",
       "      <th>year</th>\n",
       "      <th>dayofweek</th>\n",
       "      <th>day</th>\n",
       "    </tr>\n",
       "  </thead>\n",
       "  <tbody>\n",
       "    <tr>\n",
       "      <th>0</th>\n",
       "      <td>8.0</td>\n",
       "      <td>19:12:00</td>\n",
       "      <td>41</td>\n",
       "      <td>2565.0</td>\n",
       "      <td>Trinity &amp; 6th Street</td>\n",
       "      <td>3.0</td>\n",
       "      <td>2536.0</td>\n",
       "      <td>Waller &amp; 6th St.</td>\n",
       "      <td>2015-03-19 19:12:00</td>\n",
       "      <td>Walk Up</td>\n",
       "      <td>9900082882</td>\n",
       "      <td>2015.0</td>\n",
       "      <td>3</td>\n",
       "      <td>19</td>\n",
       "    </tr>\n",
       "    <tr>\n",
       "      <th>1</th>\n",
       "      <td>141.0</td>\n",
       "      <td>2:06:04</td>\n",
       "      <td>6</td>\n",
       "      <td>2570.0</td>\n",
       "      <td>South Congress &amp; Academy</td>\n",
       "      <td>10.0</td>\n",
       "      <td>2494.0</td>\n",
       "      <td>2nd &amp; Congress</td>\n",
       "      <td>2016-10-30 02:06:04</td>\n",
       "      <td>Local365</td>\n",
       "      <td>12617682</td>\n",
       "      <td>2016.0</td>\n",
       "      <td>6</td>\n",
       "      <td>30</td>\n",
       "    </tr>\n",
       "    <tr>\n",
       "      <th>2</th>\n",
       "      <td>578.0</td>\n",
       "      <td>16:28:27</td>\n",
       "      <td>13</td>\n",
       "      <td>2498.0</td>\n",
       "      <td>Convention Center / 4th St. @ MetroRail</td>\n",
       "      <td>3.0</td>\n",
       "      <td>2538.0</td>\n",
       "      <td>Bullock Museum @ Congress &amp; MLK</td>\n",
       "      <td>2016-03-11 16:28:27</td>\n",
       "      <td>Local365</td>\n",
       "      <td>9075366</td>\n",
       "      <td>2016.0</td>\n",
       "      <td>4</td>\n",
       "      <td>11</td>\n",
       "    </tr>\n",
       "    <tr>\n",
       "      <th>3</th>\n",
       "      <td>555.0</td>\n",
       "      <td>15:12:00</td>\n",
       "      <td>80</td>\n",
       "      <td>2712.0</td>\n",
       "      <td>Toomey Rd @ South Lamar</td>\n",
       "      <td>11.0</td>\n",
       "      <td>2497.0</td>\n",
       "      <td>Capitol Station / Congress &amp; 11th</td>\n",
       "      <td>2014-11-23 15:12:00</td>\n",
       "      <td>24-Hour Kiosk (Austin B-cycle)</td>\n",
       "      <td>9900319298</td>\n",
       "      <td>2014.0</td>\n",
       "      <td>6</td>\n",
       "      <td>23</td>\n",
       "    </tr>\n",
       "    <tr>\n",
       "      <th>4</th>\n",
       "      <td>86.0</td>\n",
       "      <td>15:39:13</td>\n",
       "      <td>25</td>\n",
       "      <td>3377.0</td>\n",
       "      <td>MoPac Pedestrian Bridge @ Veterans Drive</td>\n",
       "      <td>4.0</td>\n",
       "      <td>2707.0</td>\n",
       "      <td>Rainey St @ Cummings</td>\n",
       "      <td>2017-04-16 15:39:13</td>\n",
       "      <td>Walk Up</td>\n",
       "      <td>14468597</td>\n",
       "      <td>2017.0</td>\n",
       "      <td>6</td>\n",
       "      <td>16</td>\n",
       "    </tr>\n",
       "  </tbody>\n",
       "</table>\n",
       "</div>"
      ],
      "text/plain": [
       "   bikeid checkout_time  duration_minutes  end_station_id  \\\n",
       "0     8.0      19:12:00                41          2565.0   \n",
       "1   141.0       2:06:04                 6          2570.0   \n",
       "2   578.0      16:28:27                13          2498.0   \n",
       "3   555.0      15:12:00                80          2712.0   \n",
       "4    86.0      15:39:13                25          3377.0   \n",
       "\n",
       "                           end_station_name  month  start_station_id  \\\n",
       "0                      Trinity & 6th Street    3.0            2536.0   \n",
       "1                  South Congress & Academy   10.0            2494.0   \n",
       "2   Convention Center / 4th St. @ MetroRail    3.0            2538.0   \n",
       "3                   Toomey Rd @ South Lamar   11.0            2497.0   \n",
       "4  MoPac Pedestrian Bridge @ Veterans Drive    4.0            2707.0   \n",
       "\n",
       "                  start_station_name           start_time  \\\n",
       "0                   Waller & 6th St.  2015-03-19 19:12:00   \n",
       "1                     2nd & Congress  2016-10-30 02:06:04   \n",
       "2    Bullock Museum @ Congress & MLK  2016-03-11 16:28:27   \n",
       "3  Capitol Station / Congress & 11th  2014-11-23 15:12:00   \n",
       "4               Rainey St @ Cummings  2017-04-16 15:39:13   \n",
       "\n",
       "                  subscriber_type     trip_id    year  dayofweek  day  \n",
       "0                         Walk Up  9900082882  2015.0          3   19  \n",
       "1                        Local365    12617682  2016.0          6   30  \n",
       "2                        Local365     9075366  2016.0          4   11  \n",
       "3  24-Hour Kiosk (Austin B-cycle)  9900319298  2014.0          6   23  \n",
       "4                         Walk Up    14468597  2017.0          6   16  "
      ]
     },
     "execution_count": 16,
     "metadata": {},
     "output_type": "execute_result"
    }
   ],
   "source": [
    "t = pd.to_datetime(trips.start_time)\n",
    "t.head()\n",
    "trips['day'] = t.map(lambda x: x.day)\n",
    "trips.head()"
   ]
  },
  {
   "cell_type": "code",
   "execution_count": 17,
   "metadata": {},
   "outputs": [
    {
     "data": {
      "text/plain": [
       "0    19\n",
       "1     2\n",
       "2    16\n",
       "3    15\n",
       "4    15\n",
       "Name: time, dtype: int64"
      ]
     },
     "execution_count": 17,
     "metadata": {},
     "output_type": "execute_result"
    }
   ],
   "source": [
    "# we will add column `time` to represent the hour that the rental took place. We will round down for simplicity. \n",
    "trips['time'] = t.map(lambda x: x.hour)\n",
    "trips['time'].head()"
   ]
  },
  {
   "cell_type": "markdown",
   "metadata": {},
   "source": [
    "Ok, now that we have that bit of preprocessing done, we can look at the daily stats for the month of March! We will aggregate the yearly data again as we saw that the numbers did not vary much by year. `"
   ]
  },
  {
   "cell_type": "code",
   "execution_count": 18,
   "metadata": {},
   "outputs": [
    {
     "data": {
      "image/png": "[encoded data removed]",
      "text/plain": [
       "<matplotlib.figure.Figure at 0x10a10bb70>"
      ]
     },
     "metadata": {},
     "output_type": "display_data"
    }
   ],
   "source": [
    "# we need to recreate MayTrips since trips was updated\n",
    "MayTrips = trips[trips['month'] == 3.0]\n",
    "# count the total trips made in March per year\n",
    "MayDayCounts = MayTrips.day.value_counts().sort_index()\n",
    "# print(MayCounts)\n",
    "dayNames = tuple(range(1,32))\n",
    "\n",
    "# create a bar plot of the data to represent the yearly distribution. \n",
    "y_pos = np.arange(len(dayNames))\n",
    "plt.bar(y_pos,MayDayCounts)\n",
    "plt.xticks(y_pos, dayNames)\n",
    "plt.title('rental distribution in the month of March by day')\n",
    "plt.xlabel('day')\n",
    "plt.ylabel('number of rentals')\n",
    "plt.show()"
   ]
  },
  {
   "cell_type": "markdown",
   "metadata": {},
   "source": [
    "So looking at daily stats for March, it does seem that there is higher usage between the 12-19th. That is a one week span. A quick Google search of \"Austin Texas March 12-19\" pulls up results for SXSW. This is a yearly event that spans over a week and draws lots of visitors from all over the US and world. According to http://www.512tech.com/technology/sxsw-says-had-421-900-2017-events-continues-unifying-conferences/LeLK0RwIbaDXpBgF4UpIyH/, in 2017 there were over 70k participants at the event. This explains the mystery of why March had such high rental numbers. People visiting Austin for SXSW were using Austin Bike Share to get around town! "
   ]
  },
  {
   "cell_type": "markdown",
   "metadata": {},
   "source": [
    "## Formatting trips by day\n",
    "Next we will format trips data by day as the index and each column representing a bike share rental station. Each cell will contain an int for the number of rentals for the corresponding day and station. "
   ]
  },
  {
   "cell_type": "code",
   "execution_count": 19,
   "metadata": {},
   "outputs": [
    {
     "data": {
      "text/plain": [
       "0    2015-03-19\n",
       "1    2016-10-30\n",
       "2    2016-03-11\n",
       "3    2014-11-23\n",
       "4    2017-04-16\n",
       "Name: date, dtype: object"
      ]
     },
     "execution_count": 19,
     "metadata": {},
     "output_type": "execute_result"
    }
   ],
   "source": [
    "# add a date column that contains \n",
    "import dateutil.parser\n",
    "trips['date'] = trips['start_time'].map(lambda x: dateutil.parser.parse(x).date())\n",
    "trips['date'] = trips['date'].map(lambda x: x.strftime('%Y-%m-%d'))\n",
    "trips['date'].head()"
   ]
  },
  {
   "cell_type": "code",
   "execution_count": 157,
   "metadata": {},
   "outputs": [],
   "source": [
    "firstDay = min(trips['date'])\n",
    "lastDay = max(trips['date'])\n",
    "days = pd.date_range(firstDay,lastDay).map(lambda x: x.date())\n",
    "daylist = days.tolist()"
   ]
  },
  {
   "cell_type": "code",
   "execution_count": 2,
   "metadata": {},
   "outputs": [
    {
     "ename": "NameError",
     "evalue": "name 'trips' is not defined",
     "output_type": "error",
     "traceback": [
      "\u001b[0;31m---------------------------------------------------------------------------\u001b[0m",
      "\u001b[0;31mNameError\u001b[0m                                 Traceback (most recent call last)",
      "\u001b[0;32m<ipython-input-2-7946f2384085>\u001b[0m in \u001b[0;36m<module>\u001b[0;34m()\u001b[0m\n\u001b[0;32m----> 1\u001b[0;31m \u001b[0mtripCount\u001b[0m \u001b[0;34m=\u001b[0m \u001b[0mtrips\u001b[0m\u001b[0;34m.\u001b[0m\u001b[0mdate\u001b[0m\u001b[0;34m.\u001b[0m\u001b[0mvalue_counts\u001b[0m\u001b[0;34m(\u001b[0m\u001b[0;34m)\u001b[0m\u001b[0;34m\u001b[0m\u001b[0m\n\u001b[0m\u001b[1;32m      2\u001b[0m \u001b[0mtripCount\u001b[0m\u001b[0;34m.\u001b[0m\u001b[0msort_index\u001b[0m\u001b[0;34m(\u001b[0m\u001b[0minplace\u001b[0m\u001b[0;34m=\u001b[0m\u001b[0;32mTrue\u001b[0m\u001b[0;34m)\u001b[0m\u001b[0;34m\u001b[0m\u001b[0m\n\u001b[1;32m      3\u001b[0m \u001b[0mtripCount\u001b[0m\u001b[0;34m.\u001b[0m\u001b[0mhead\u001b[0m\u001b[0;34m(\u001b[0m\u001b[0;34m)\u001b[0m\u001b[0;34m\u001b[0m\u001b[0m\n\u001b[1;32m      4\u001b[0m \u001b[0mplt\u001b[0m\u001b[0;34m.\u001b[0m\u001b[0mplot\u001b[0m\u001b[0;34m(\u001b[0m\u001b[0mtripCount\u001b[0m\u001b[0;34m)\u001b[0m\u001b[0;34m\u001b[0m\u001b[0m\n\u001b[1;32m      5\u001b[0m \u001b[0mplt\u001b[0m\u001b[0;34m.\u001b[0m\u001b[0mtitle\u001b[0m\u001b[0;34m(\u001b[0m\u001b[0;34m'line plot of daily bike rental counts over lifetime of bike share rental'\u001b[0m\u001b[0;34m)\u001b[0m\u001b[0;34m\u001b[0m\u001b[0m\n",
      "\u001b[0;31mNameError\u001b[0m: name 'trips' is not defined"
     ]
    }
   ],
   "source": [
    "tripCount = trips.date.value_counts()\n",
    "tripCount.sort_index(inplace=True)\n",
    "tripCount.head()\n",
    "plt.plot(tripCount)\n",
    "plt.title('line plot of daily bike rental counts over lifetime of bike share rental')\n",
    "plt.ylabel('daily rental counts')\n",
    "plt.xlabel('time (days)')\n",
    "plt.show()"
   ]
  },
  {
   "cell_type": "code",
   "execution_count": 22,
   "metadata": {},
   "outputs": [
    {
     "data": {
      "text/html": [
       "<div>\n",
       "<style scoped>\n",
       "    .dataframe tbody tr th:only-of-type {\n",
       "        vertical-align: middle;\n",
       "    }\n",
       "\n",
       "    .dataframe tbody tr th {\n",
       "        vertical-align: top;\n",
       "    }\n",
       "\n",
       "    .dataframe thead th {\n",
       "        text-align: right;\n",
       "    }\n",
       "</style>\n",
       "<table border=\"1\" class=\"dataframe\">\n",
       "  <thead>\n",
       "    <tr style=\"text-align: right;\">\n",
       "      <th></th>\n",
       "    </tr>\n",
       "  </thead>\n",
       "  <tbody>\n",
       "    <tr>\n",
       "      <th>2013-12-21</th>\n",
       "    </tr>\n",
       "    <tr>\n",
       "      <th>2013-12-22</th>\n",
       "    </tr>\n",
       "    <tr>\n",
       "      <th>2013-12-23</th>\n",
       "    </tr>\n",
       "    <tr>\n",
       "      <th>2013-12-24</th>\n",
       "    </tr>\n",
       "    <tr>\n",
       "      <th>2013-12-25</th>\n",
       "    </tr>\n",
       "  </tbody>\n",
       "</table>\n",
       "</div>"
      ],
      "text/plain": [
       "Empty DataFrame\n",
       "Columns: []\n",
       "Index: [2013-12-21, 2013-12-22, 2013-12-23, 2013-12-24, 2013-12-25]"
      ]
     },
     "execution_count": 22,
     "metadata": {},
     "output_type": "execute_result"
    }
   ],
   "source": [
    "# create a new variable tripInfo that has daily stats such as weather \n",
    "# and total trips at each station\n",
    "tripInfo = pd.DataFrame(index=days)\n",
    "tripInfo.head()\n"
   ]
  },
  {
   "cell_type": "code",
   "execution_count": 23,
   "metadata": {},
   "outputs": [
    {
     "data": {
      "text/html": [
       "<div>\n",
       "<style scoped>\n",
       "    .dataframe tbody tr th:only-of-type {\n",
       "        vertical-align: middle;\n",
       "    }\n",
       "\n",
       "    .dataframe tbody tr th {\n",
       "        vertical-align: top;\n",
       "    }\n",
       "\n",
       "    .dataframe thead th {\n",
       "        text-align: right;\n",
       "    }\n",
       "</style>\n",
       "<table border=\"1\" class=\"dataframe\">\n",
       "  <thead>\n",
       "    <tr style=\"text-align: right;\">\n",
       "      <th></th>\n",
       "      <th>TempAvgF</th>\n",
       "      <th>avgHumid</th>\n",
       "      <th>avgWindSpd</th>\n",
       "      <th>Rain</th>\n",
       "      <th>Thunderstorm</th>\n",
       "      <th>Fog</th>\n",
       "      <th>Snow</th>\n",
       "      <th>Percip</th>\n",
       "    </tr>\n",
       "  </thead>\n",
       "  <tbody>\n",
       "    <tr>\n",
       "      <th>2013-12-21</th>\n",
       "      <td>60</td>\n",
       "      <td>75</td>\n",
       "      <td>4</td>\n",
       "      <td>1</td>\n",
       "      <td>1</td>\n",
       "      <td>0</td>\n",
       "      <td>0</td>\n",
       "      <td>0.46</td>\n",
       "    </tr>\n",
       "    <tr>\n",
       "      <th>2013-12-22</th>\n",
       "      <td>48</td>\n",
       "      <td>68</td>\n",
       "      <td>6</td>\n",
       "      <td>0</td>\n",
       "      <td>0</td>\n",
       "      <td>0</td>\n",
       "      <td>0</td>\n",
       "      <td>0</td>\n",
       "    </tr>\n",
       "    <tr>\n",
       "      <th>2013-12-23</th>\n",
       "      <td>45</td>\n",
       "      <td>52</td>\n",
       "      <td>3</td>\n",
       "      <td>0</td>\n",
       "      <td>0</td>\n",
       "      <td>0</td>\n",
       "      <td>0</td>\n",
       "      <td>0</td>\n",
       "    </tr>\n",
       "    <tr>\n",
       "      <th>2013-12-24</th>\n",
       "      <td>46</td>\n",
       "      <td>56</td>\n",
       "      <td>4</td>\n",
       "      <td>0</td>\n",
       "      <td>0</td>\n",
       "      <td>0</td>\n",
       "      <td>0</td>\n",
       "      <td>0</td>\n",
       "    </tr>\n",
       "    <tr>\n",
       "      <th>2013-12-25</th>\n",
       "      <td>50</td>\n",
       "      <td>71</td>\n",
       "      <td>2</td>\n",
       "      <td>0</td>\n",
       "      <td>0</td>\n",
       "      <td>0</td>\n",
       "      <td>0</td>\n",
       "      <td>0.001</td>\n",
       "    </tr>\n",
       "  </tbody>\n",
       "</table>\n",
       "</div>"
      ],
      "text/plain": [
       "            TempAvgF avgHumid avgWindSpd  Rain  Thunderstorm  Fog  Snow Percip\n",
       "2013-12-21        60       75          4     1             1    0     0   0.46\n",
       "2013-12-22        48       68          6     0             0    0     0      0\n",
       "2013-12-23        45       52          3     0             0    0     0      0\n",
       "2013-12-24        46       56          4     0             0    0     0      0\n",
       "2013-12-25        50       71          2     0             0    0     0  0.001"
      ]
     },
     "execution_count": 23,
     "metadata": {},
     "output_type": "execute_result"
    }
   ],
   "source": [
    "# add weather related data\n",
    "tripInfo['TempAvgF'] = (weather['TempAvgF'].values.tolist())\n",
    "tripInfo['avgHumid'] = weather['HumidityAvgPercent'].values.tolist()\n",
    "tripInfo['avgWindSpd'] = weather['WindAvgMPH'].values.tolist()\n",
    "tripInfo['Rain'] = Rain\n",
    "tripInfo['Thunderstorm'] = Thunderstorm\n",
    "tripInfo['Fog'] = Fog\n",
    "tripInfo['Snow'] = Snow\n",
    "tripInfo['Percip'] = weather['PrecipitationSumInches'].values.tolist()\n",
    "tripInfo.head()"
   ]
  },
  {
   "cell_type": "code",
   "execution_count": 202,
   "metadata": {},
   "outputs": [],
   "source": [
    "# add trip counts by station\n",
    "dayliststr = days.map(lambda x: x.strftime('%Y-%m-%d')).tolist()\n",
    "for station in top5Stations:\n",
    "    tempTrips = trips[trips['start_station_name']==station]\n",
    "    tempCount = []\n",
    "    for day in dayliststr:\n",
    "        tempCount.append(len(tempTrips[tempTrips['date']==day]))\n",
    "    tripCounts[station] = tempCount\n",
    "#     if station == 'Riverside @ S. Lamar':\n",
    "#         station1 = tempCount\n",
    "#     elif station == 'City Hall / Lavaca & 2nd':\n",
    "#         station2 = tempCount\n",
    "#     elif station == '5th & Bowie':\n",
    "#         station3 = tempCount\n",
    "#     elif station == '2nd & Congress':\n",
    "#         station4 = tempCount\n",
    "#     elif station == '4th & Congress':\n",
    "#         station5 = tempCount"
   ]
  },
  {
   "cell_type": "code",
   "execution_count": 201,
   "metadata": {},
   "outputs": [
    {
     "data": {
      "text/plain": [
       "'Riverside @ S. Lamar'"
      ]
     },
     "execution_count": 201,
     "metadata": {},
     "output_type": "execute_result"
    }
   ],
   "source": [
    "top5Stations[0]"
   ]
  },
  {
   "cell_type": "code",
   "execution_count": 154,
   "metadata": {},
   "outputs": [],
   "source": [
    "tripCounts = pd.DataFrame(index=days)\n",
    "\n",
    "tripCounts['station1']=station1\n",
    "tripCounts['station2']=station2\n",
    "tripCounts['station3']=station3\n",
    "tripCounts['station4']=station4\n",
    "tripCounts['station5']=station5\n"
   ]
  },
  {
   "cell_type": "code",
   "execution_count": 204,
   "metadata": {},
   "outputs": [
    {
     "data": {
      "text/html": [
       "<div>\n",
       "<style scoped>\n",
       "    .dataframe tbody tr th:only-of-type {\n",
       "        vertical-align: middle;\n",
       "    }\n",
       "\n",
       "    .dataframe tbody tr th {\n",
       "        vertical-align: top;\n",
       "    }\n",
       "\n",
       "    .dataframe thead th {\n",
       "        text-align: right;\n",
       "    }\n",
       "</style>\n",
       "<table border=\"1\" class=\"dataframe\">\n",
       "  <thead>\n",
       "    <tr style=\"text-align: right;\">\n",
       "      <th></th>\n",
       "      <th>station1</th>\n",
       "      <th>station2</th>\n",
       "      <th>station3</th>\n",
       "      <th>station4</th>\n",
       "      <th>station5</th>\n",
       "      <th>Riverside @ S. Lamar</th>\n",
       "      <th>City Hall / Lavaca &amp; 2nd</th>\n",
       "      <th>5th &amp; Bowie</th>\n",
       "      <th>2nd &amp; Congress</th>\n",
       "      <th>4th &amp; Congress</th>\n",
       "    </tr>\n",
       "  </thead>\n",
       "  <tbody>\n",
       "    <tr>\n",
       "      <th>2013-12-21</th>\n",
       "      <td>0</td>\n",
       "      <td>15</td>\n",
       "      <td>11</td>\n",
       "      <td>9</td>\n",
       "      <td>9</td>\n",
       "      <td>0</td>\n",
       "      <td>15</td>\n",
       "      <td>11</td>\n",
       "      <td>9</td>\n",
       "      <td>9</td>\n",
       "    </tr>\n",
       "    <tr>\n",
       "      <th>2013-12-22</th>\n",
       "      <td>0</td>\n",
       "      <td>11</td>\n",
       "      <td>23</td>\n",
       "      <td>13</td>\n",
       "      <td>9</td>\n",
       "      <td>0</td>\n",
       "      <td>11</td>\n",
       "      <td>23</td>\n",
       "      <td>13</td>\n",
       "      <td>9</td>\n",
       "    </tr>\n",
       "    <tr>\n",
       "      <th>2013-12-23</th>\n",
       "      <td>0</td>\n",
       "      <td>12</td>\n",
       "      <td>9</td>\n",
       "      <td>6</td>\n",
       "      <td>6</td>\n",
       "      <td>0</td>\n",
       "      <td>12</td>\n",
       "      <td>9</td>\n",
       "      <td>6</td>\n",
       "      <td>6</td>\n",
       "    </tr>\n",
       "    <tr>\n",
       "      <th>2013-12-24</th>\n",
       "      <td>0</td>\n",
       "      <td>6</td>\n",
       "      <td>11</td>\n",
       "      <td>5</td>\n",
       "      <td>7</td>\n",
       "      <td>0</td>\n",
       "      <td>6</td>\n",
       "      <td>11</td>\n",
       "      <td>5</td>\n",
       "      <td>7</td>\n",
       "    </tr>\n",
       "    <tr>\n",
       "      <th>2013-12-25</th>\n",
       "      <td>0</td>\n",
       "      <td>15</td>\n",
       "      <td>15</td>\n",
       "      <td>9</td>\n",
       "      <td>15</td>\n",
       "      <td>0</td>\n",
       "      <td>15</td>\n",
       "      <td>15</td>\n",
       "      <td>9</td>\n",
       "      <td>15</td>\n",
       "    </tr>\n",
       "  </tbody>\n",
       "</table>\n",
       "</div>"
      ],
      "text/plain": [
       "            station1  station2  station3  station4  station5  \\\n",
       "2013-12-21         0        15        11         9         9   \n",
       "2013-12-22         0        11        23        13         9   \n",
       "2013-12-23         0        12         9         6         6   \n",
       "2013-12-24         0         6        11         5         7   \n",
       "2013-12-25         0        15        15         9        15   \n",
       "\n",
       "            Riverside @ S. Lamar  City Hall / Lavaca & 2nd  5th & Bowie  \\\n",
       "2013-12-21                     0                        15           11   \n",
       "2013-12-22                     0                        11           23   \n",
       "2013-12-23                     0                        12            9   \n",
       "2013-12-24                     0                         6           11   \n",
       "2013-12-25                     0                        15           15   \n",
       "\n",
       "            2nd & Congress  4th & Congress  \n",
       "2013-12-21               9               9  \n",
       "2013-12-22              13               9  \n",
       "2013-12-23               6               6  \n",
       "2013-12-24               5               7  \n",
       "2013-12-25               9              15  "
      ]
     },
     "execution_count": 204,
     "metadata": {},
     "output_type": "execute_result"
    }
   ],
   "source": [
    "# each column in trip counts represents a bike share station with a daily total of rentals. This will be our Y label. \n",
    "# the regressions will be run for each station independently. \n",
    "tripCounts.head()"
   ]
  },
  {
   "cell_type": "code",
   "execution_count": 158,
   "metadata": {},
   "outputs": [],
   "source": [
    "a = pd.Series(daylist)\n",
    "b = pd.to_datetime(a).dt.dayofweek\n",
    "year = [date.year for date in daylist]\n",
    "month = [date.month for date in daylist]\n",
    "tripInfo['dayOfWeek'] = b.tolist()\n",
    "tripInfo['year'] = year\n",
    "tripInfo['month'] = month\n"
   ]
  },
  {
   "cell_type": "code",
   "execution_count": 159,
   "metadata": {},
   "outputs": [
    {
     "data": {
      "text/html": [
       "<div>\n",
       "<style scoped>\n",
       "    .dataframe tbody tr th:only-of-type {\n",
       "        vertical-align: middle;\n",
       "    }\n",
       "\n",
       "    .dataframe tbody tr th {\n",
       "        vertical-align: top;\n",
       "    }\n",
       "\n",
       "    .dataframe thead th {\n",
       "        text-align: right;\n",
       "    }\n",
       "</style>\n",
       "<table border=\"1\" class=\"dataframe\">\n",
       "  <thead>\n",
       "    <tr style=\"text-align: right;\">\n",
       "      <th></th>\n",
       "      <th>TempAvgF</th>\n",
       "      <th>avgHumid</th>\n",
       "      <th>avgWindSpd</th>\n",
       "      <th>Rain</th>\n",
       "      <th>Thunderstorm</th>\n",
       "      <th>Fog</th>\n",
       "      <th>Snow</th>\n",
       "      <th>Percip</th>\n",
       "      <th>dayOfWeek</th>\n",
       "      <th>year</th>\n",
       "      <th>month</th>\n",
       "    </tr>\n",
       "  </thead>\n",
       "  <tbody>\n",
       "    <tr>\n",
       "      <th>2013-12-21</th>\n",
       "      <td>60</td>\n",
       "      <td>75</td>\n",
       "      <td>4</td>\n",
       "      <td>1</td>\n",
       "      <td>1</td>\n",
       "      <td>0</td>\n",
       "      <td>0</td>\n",
       "      <td>0.46</td>\n",
       "      <td>5</td>\n",
       "      <td>2013</td>\n",
       "      <td>12</td>\n",
       "    </tr>\n",
       "    <tr>\n",
       "      <th>2013-12-22</th>\n",
       "      <td>48</td>\n",
       "      <td>68</td>\n",
       "      <td>6</td>\n",
       "      <td>0</td>\n",
       "      <td>0</td>\n",
       "      <td>0</td>\n",
       "      <td>0</td>\n",
       "      <td>0</td>\n",
       "      <td>6</td>\n",
       "      <td>2013</td>\n",
       "      <td>12</td>\n",
       "    </tr>\n",
       "    <tr>\n",
       "      <th>2013-12-23</th>\n",
       "      <td>45</td>\n",
       "      <td>52</td>\n",
       "      <td>3</td>\n",
       "      <td>0</td>\n",
       "      <td>0</td>\n",
       "      <td>0</td>\n",
       "      <td>0</td>\n",
       "      <td>0</td>\n",
       "      <td>0</td>\n",
       "      <td>2013</td>\n",
       "      <td>12</td>\n",
       "    </tr>\n",
       "    <tr>\n",
       "      <th>2013-12-24</th>\n",
       "      <td>46</td>\n",
       "      <td>56</td>\n",
       "      <td>4</td>\n",
       "      <td>0</td>\n",
       "      <td>0</td>\n",
       "      <td>0</td>\n",
       "      <td>0</td>\n",
       "      <td>0</td>\n",
       "      <td>1</td>\n",
       "      <td>2013</td>\n",
       "      <td>12</td>\n",
       "    </tr>\n",
       "    <tr>\n",
       "      <th>2013-12-25</th>\n",
       "      <td>50</td>\n",
       "      <td>71</td>\n",
       "      <td>2</td>\n",
       "      <td>0</td>\n",
       "      <td>0</td>\n",
       "      <td>0</td>\n",
       "      <td>0</td>\n",
       "      <td>0.001</td>\n",
       "      <td>2</td>\n",
       "      <td>2013</td>\n",
       "      <td>12</td>\n",
       "    </tr>\n",
       "  </tbody>\n",
       "</table>\n",
       "</div>"
      ],
      "text/plain": [
       "            TempAvgF avgHumid avgWindSpd  Rain  Thunderstorm  Fog  Snow  \\\n",
       "2013-12-21        60       75          4     1             1    0     0   \n",
       "2013-12-22        48       68          6     0             0    0     0   \n",
       "2013-12-23        45       52          3     0             0    0     0   \n",
       "2013-12-24        46       56          4     0             0    0     0   \n",
       "2013-12-25        50       71          2     0             0    0     0   \n",
       "\n",
       "           Percip  dayOfWeek  year  month  \n",
       "2013-12-21   0.46          5  2013     12  \n",
       "2013-12-22      0          6  2013     12  \n",
       "2013-12-23      0          0  2013     12  \n",
       "2013-12-24      0          1  2013     12  \n",
       "2013-12-25  0.001          2  2013     12  "
      ]
     },
     "execution_count": 159,
     "metadata": {},
     "output_type": "execute_result"
    }
   ],
   "source": [
    "# tripInfo is our X_labels. It contains weather and date data\n",
    "tripInfo.head()"
   ]
  },
  {
   "cell_type": "code",
   "execution_count": 160,
   "metadata": {},
   "outputs": [
    {
     "data": {
      "text/plain": [
       "TempAvgF        0\n",
       "avgHumid        0\n",
       "avgWindSpd      0\n",
       "Rain            0\n",
       "Thunderstorm    0\n",
       "Fog             0\n",
       "Snow            0\n",
       "Percip          0\n",
       "dayOfWeek       0\n",
       "year            0\n",
       "month           0\n",
       "dtype: int64"
      ]
     },
     "execution_count": 160,
     "metadata": {},
     "output_type": "execute_result"
    }
   ],
   "source": [
    "tripInfo.isnull().sum()"
   ]
  },
  {
   "cell_type": "markdown",
   "metadata": {},
   "source": [
    "## training time!\n",
    "this section will focus on training. yay!\n"
   ]
  },
  {
   "cell_type": "code",
   "execution_count": 32,
   "metadata": {},
   "outputs": [],
   "source": [
    "# import our machine learning libraries\n",
    "from sklearn.linear_model import LinearRegression\n",
    "from sklearn.tree import DecisionTreeRegressor\n",
    "from sklearn.ensemble import RandomForestRegressor\n",
    "from sklearn.svm import SVR\n",
    "from sklearn import model_selection, preprocessing"
   ]
  },
  {
   "cell_type": "code",
   "execution_count": 35,
   "metadata": {},
   "outputs": [],
   "source": [
    "# this function will be how we measure error\n",
    "# it is the root mean squared logarithmic error\n",
    "def rmsle(y, y_):\n",
    "    log1 = np.nan_to_num(np.array([np.log(v + 1) for v in y]))\n",
    "    log2 = np.nan_to_num(np.array([np.log(v + 1) for v in y_]))\n",
    "    calc = (log1 - log2) ** 2\n",
    "    return np.sqrt(np.mean(calc))"
   ]
  },
  {
   "cell_type": "code",
   "execution_count": 304,
   "metadata": {},
   "outputs": [],
   "source": [
    "# set up test and train datasets\n",
    "X_train = tripInfo[tripInfo['year'] < 2017]\n",
    "X_test = tripInfo[tripInfo['year'] == 2017]\n",
    "\n",
    "# set up thwe y_label. This will be different for each station\n",
    "f = '%Y-%m-%d'\n",
    "endDate = datetime.strptime('2017-01-01', f).date()\n",
    "y1_train = tripCounts.station1[tripCounts.index < endDate].reset_index(drop=True)\n",
    "y2_train = tripCounts.station2[tripCounts.index < endDate].reset_index(drop=True)\n",
    "y3_train = tripCounts.station3[tripCounts.index < endDate].reset_index(drop=True)\n",
    "y4_train = tripCounts.station4[tripCounts.index < endDate].reset_index(drop=True)\n",
    "y5_train = tripCounts.station5[tripCounts.index < endDate].reset_index(drop=True)\n",
    "\n",
    "y1_test = tripCounts.station1[tripCounts.index >= endDate].reset_index(drop=True)\n",
    "y2_test = tripCounts.station2[tripCounts.index >= endDate].reset_index(drop=True)\n",
    "y3_test = tripCounts.station3[tripCounts.index >= endDate].reset_index(drop=True)\n",
    "y4_test = tripCounts.station4[tripCounts.index >= endDate].reset_index(drop=True)\n",
    "y5_test = tripCounts.station5[tripCounts.index >= endDate].reset_index(drop=True)"
   ]
  },
  {
   "cell_type": "code",
   "execution_count": 250,
   "metadata": {
    "scrolled": true
   },
   "outputs": [
    {
     "data": {
      "text/html": [
       "<div>\n",
       "<style scoped>\n",
       "    .dataframe tbody tr th:only-of-type {\n",
       "        vertical-align: middle;\n",
       "    }\n",
       "\n",
       "    .dataframe tbody tr th {\n",
       "        vertical-align: top;\n",
       "    }\n",
       "\n",
       "    .dataframe thead th {\n",
       "        text-align: right;\n",
       "    }\n",
       "</style>\n",
       "<table border=\"1\" class=\"dataframe\">\n",
       "  <thead>\n",
       "    <tr style=\"text-align: right;\">\n",
       "      <th></th>\n",
       "      <th>TempAvgF</th>\n",
       "      <th>avgHumid</th>\n",
       "      <th>avgWindSpd</th>\n",
       "      <th>Rain</th>\n",
       "      <th>Thunderstorm</th>\n",
       "      <th>Fog</th>\n",
       "      <th>Snow</th>\n",
       "      <th>Percip</th>\n",
       "      <th>dayOfWeek</th>\n",
       "      <th>year</th>\n",
       "      <th>month</th>\n",
       "    </tr>\n",
       "  </thead>\n",
       "  <tbody>\n",
       "    <tr>\n",
       "      <th>0</th>\n",
       "      <td>60</td>\n",
       "      <td>75</td>\n",
       "      <td>4</td>\n",
       "      <td>1</td>\n",
       "      <td>1</td>\n",
       "      <td>0</td>\n",
       "      <td>0</td>\n",
       "      <td>0.46</td>\n",
       "      <td>5</td>\n",
       "      <td>2013</td>\n",
       "      <td>12</td>\n",
       "    </tr>\n",
       "    <tr>\n",
       "      <th>1</th>\n",
       "      <td>48</td>\n",
       "      <td>68</td>\n",
       "      <td>6</td>\n",
       "      <td>0</td>\n",
       "      <td>0</td>\n",
       "      <td>0</td>\n",
       "      <td>0</td>\n",
       "      <td>0</td>\n",
       "      <td>6</td>\n",
       "      <td>2013</td>\n",
       "      <td>12</td>\n",
       "    </tr>\n",
       "    <tr>\n",
       "      <th>2</th>\n",
       "      <td>45</td>\n",
       "      <td>52</td>\n",
       "      <td>3</td>\n",
       "      <td>0</td>\n",
       "      <td>0</td>\n",
       "      <td>0</td>\n",
       "      <td>0</td>\n",
       "      <td>0</td>\n",
       "      <td>0</td>\n",
       "      <td>2013</td>\n",
       "      <td>12</td>\n",
       "    </tr>\n",
       "    <tr>\n",
       "      <th>3</th>\n",
       "      <td>46</td>\n",
       "      <td>56</td>\n",
       "      <td>4</td>\n",
       "      <td>0</td>\n",
       "      <td>0</td>\n",
       "      <td>0</td>\n",
       "      <td>0</td>\n",
       "      <td>0</td>\n",
       "      <td>1</td>\n",
       "      <td>2013</td>\n",
       "      <td>12</td>\n",
       "    </tr>\n",
       "    <tr>\n",
       "      <th>4</th>\n",
       "      <td>50</td>\n",
       "      <td>71</td>\n",
       "      <td>2</td>\n",
       "      <td>0</td>\n",
       "      <td>0</td>\n",
       "      <td>0</td>\n",
       "      <td>0</td>\n",
       "      <td>0.001</td>\n",
       "      <td>2</td>\n",
       "      <td>2013</td>\n",
       "      <td>12</td>\n",
       "    </tr>\n",
       "  </tbody>\n",
       "</table>\n",
       "</div>"
      ],
      "text/plain": [
       "   TempAvgF avgHumid avgWindSpd  Rain  Thunderstorm  Fog  Snow Percip  \\\n",
       "0        60       75          4     1             1    0     0   0.46   \n",
       "1        48       68          6     0             0    0     0      0   \n",
       "2        45       52          3     0             0    0     0      0   \n",
       "3        46       56          4     0             0    0     0      0   \n",
       "4        50       71          2     0             0    0     0  0.001   \n",
       "\n",
       "   dayOfWeek  year  month  \n",
       "0          5  2013     12  \n",
       "1          6  2013     12  \n",
       "2          0  2013     12  \n",
       "3          1  2013     12  \n",
       "4          2  2013     12  "
      ]
     },
     "execution_count": 250,
     "metadata": {},
     "output_type": "execute_result"
    }
   ],
   "source": [
    "tripInfo.reset_index(drop=True,inplace=True)\n",
    "tripInfo.head()\n"
   ]
  },
  {
   "cell_type": "code",
   "execution_count": 291,
   "metadata": {},
   "outputs": [
    {
     "data": {
      "text/plain": [
       "pandas.core.series.Series"
      ]
     },
     "execution_count": 291,
     "metadata": {},
     "output_type": "execute_result"
    }
   ],
   "source": [
    "a = tripInfo.TempAvgF\n"
   ]
  },
  {
   "cell_type": "code",
   "execution_count": 251,
   "metadata": {},
   "outputs": [
    {
     "data": {
      "text/plain": [
       "0       75\n",
       "1       68\n",
       "2       52\n",
       "3       56\n",
       "4       71\n",
       "5       63\n",
       "6       65\n",
       "7       64\n",
       "8       76\n",
       "9       60\n",
       "10      54\n",
       "11      68\n",
       "12      55\n",
       "13      49\n",
       "14      68\n",
       "15      59\n",
       "16      38\n",
       "17      43\n",
       "18      75\n",
       "19      80\n",
       "20      81\n",
       "21      53\n",
       "22      68\n",
       "23      51\n",
       "24      41\n",
       "25      35\n",
       "26      38\n",
       "27      31\n",
       "28      45\n",
       "29      39\n",
       "        ..\n",
       "1289    63\n",
       "1290    62\n",
       "1291    60\n",
       "1292    58\n",
       "1293    60\n",
       "1294    61\n",
       "1295    59\n",
       "1296    56\n",
       "1297    57\n",
       "1298    58\n",
       "1299    59\n",
       "1300    59\n",
       "1301    58\n",
       "1302    65\n",
       "1303    67\n",
       "1304    63\n",
       "1305    61\n",
       "1306    60\n",
       "1307    56\n",
       "1308    56\n",
       "1309    58\n",
       "1310    58\n",
       "1311    60\n",
       "1312    61\n",
       "1313    58\n",
       "1314    54\n",
       "1315    54\n",
       "1316    51\n",
       "1317    48\n",
       "1318    43\n",
       "Name: avgHumid, Length: 1319, dtype: int64"
      ]
     },
     "execution_count": 251,
     "metadata": {},
     "output_type": "execute_result"
    }
   ],
   "source": [
    "pd.to_numeric(tripInfo.avgHumid)"
   ]
  },
  {
   "cell_type": "code",
   "execution_count": 232,
   "metadata": {},
   "outputs": [
    {
     "name": "stderr",
     "output_type": "stream",
     "text": [
      "/usr/local/lib/python3.6/site-packages/ipykernel_launcher.py:1: SettingWithCopyWarning: \n",
      "A value is trying to be set on a copy of a slice from a DataFrame\n",
      "\n",
      "See the caveats in the documentation: http://pandas.pydata.org/pandas-docs/stable/indexing.html#indexing-view-versus-copy\n",
      "  \"\"\"Entry point for launching an IPython kernel.\n"
     ]
    }
   ],
   "source": [
    "tripInfo.avgHumid[tripInfo.avgHumid == '-'] = 0"
   ]
  },
  {
   "cell_type": "code",
   "execution_count": 306,
   "metadata": {
    "scrolled": true
   },
   "outputs": [
    {
     "ename": "ValueError",
     "evalue": "setting an array element with a sequence.",
     "output_type": "error",
     "traceback": [
      "\u001b[0;31m---------------------------------------------------------------------------\u001b[0m",
      "\u001b[0;31mValueError\u001b[0m                                Traceback (most recent call last)",
      "\u001b[0;32m<ipython-input-306-1bd89b6fd2ee>\u001b[0m in \u001b[0;36m<module>\u001b[0;34m()\u001b[0m\n\u001b[1;32m      1\u001b[0m \u001b[0mclf\u001b[0m \u001b[0;34m=\u001b[0m \u001b[0mLinearRegression\u001b[0m\u001b[0;34m(\u001b[0m\u001b[0mnormalize\u001b[0m\u001b[0;34m=\u001b[0m \u001b[0;32mTrue\u001b[0m\u001b[0;34m)\u001b[0m\u001b[0;34m\u001b[0m\u001b[0m\n\u001b[0;32m----> 2\u001b[0;31m \u001b[0mclf\u001b[0m\u001b[0;34m.\u001b[0m\u001b[0mfit\u001b[0m\u001b[0;34m(\u001b[0m\u001b[0mX_train\u001b[0m\u001b[0;34m,\u001b[0m \u001b[0my2_train\u001b[0m\u001b[0;34m)\u001b[0m\u001b[0;34m\u001b[0m\u001b[0m\n\u001b[0m\u001b[1;32m      3\u001b[0m \u001b[0mprint\u001b[0m\u001b[0;34m(\u001b[0m\u001b[0;34m\"The accuracy of linear regression is: \"\u001b[0m\u001b[0;34m,\u001b[0m \u001b[0mclf\u001b[0m\u001b[0;34m.\u001b[0m\u001b[0mscore\u001b[0m\u001b[0;34m(\u001b[0m\u001b[0mX_test\u001b[0m\u001b[0;34m,\u001b[0m \u001b[0my2_test\u001b[0m\u001b[0;34m)\u001b[0m\u001b[0;34m,\u001b[0m \u001b[0;34m\"\\nThe RMSLE is: \"\u001b[0m\u001b[0;34m,\u001b[0m \u001b[0mrmsle\u001b[0m\u001b[0;34m(\u001b[0m\u001b[0my2_test\u001b[0m\u001b[0;34m,\u001b[0m \u001b[0mclf\u001b[0m\u001b[0;34m.\u001b[0m\u001b[0mpredict\u001b[0m\u001b[0;34m(\u001b[0m\u001b[0mX_test\u001b[0m\u001b[0;34m)\u001b[0m\u001b[0;34m)\u001b[0m\u001b[0;34m)\u001b[0m\u001b[0;34m\u001b[0m\u001b[0m\n",
      "\u001b[0;32m/usr/local/lib/python3.6/site-packages/sklearn/linear_model/base.py\u001b[0m in \u001b[0;36mfit\u001b[0;34m(self, X, y, sample_weight)\u001b[0m\n\u001b[1;32m    480\u001b[0m         \u001b[0mn_jobs_\u001b[0m \u001b[0;34m=\u001b[0m \u001b[0mself\u001b[0m\u001b[0;34m.\u001b[0m\u001b[0mn_jobs\u001b[0m\u001b[0;34m\u001b[0m\u001b[0m\n\u001b[1;32m    481\u001b[0m         X, y = check_X_y(X, y, accept_sparse=['csr', 'csc', 'coo'],\n\u001b[0;32m--> 482\u001b[0;31m                          y_numeric=True, multi_output=True)\n\u001b[0m\u001b[1;32m    483\u001b[0m \u001b[0;34m\u001b[0m\u001b[0m\n\u001b[1;32m    484\u001b[0m         \u001b[0;32mif\u001b[0m \u001b[0msample_weight\u001b[0m \u001b[0;32mis\u001b[0m \u001b[0;32mnot\u001b[0m \u001b[0;32mNone\u001b[0m \u001b[0;32mand\u001b[0m \u001b[0mnp\u001b[0m\u001b[0;34m.\u001b[0m\u001b[0matleast_1d\u001b[0m\u001b[0;34m(\u001b[0m\u001b[0msample_weight\u001b[0m\u001b[0;34m)\u001b[0m\u001b[0;34m.\u001b[0m\u001b[0mndim\u001b[0m \u001b[0;34m>\u001b[0m \u001b[0;36m1\u001b[0m\u001b[0;34m:\u001b[0m\u001b[0;34m\u001b[0m\u001b[0m\n",
      "\u001b[0;32m/usr/local/lib/python3.6/site-packages/sklearn/utils/validation.py\u001b[0m in \u001b[0;36mcheck_X_y\u001b[0;34m(X, y, accept_sparse, dtype, order, copy, force_all_finite, ensure_2d, allow_nd, multi_output, ensure_min_samples, ensure_min_features, y_numeric, warn_on_dtype, estimator)\u001b[0m\n\u001b[1;32m    571\u001b[0m     X = check_array(X, accept_sparse, dtype, order, copy, force_all_finite,\n\u001b[1;32m    572\u001b[0m                     \u001b[0mensure_2d\u001b[0m\u001b[0;34m,\u001b[0m \u001b[0mallow_nd\u001b[0m\u001b[0;34m,\u001b[0m \u001b[0mensure_min_samples\u001b[0m\u001b[0;34m,\u001b[0m\u001b[0;34m\u001b[0m\u001b[0m\n\u001b[0;32m--> 573\u001b[0;31m                     ensure_min_features, warn_on_dtype, estimator)\n\u001b[0m\u001b[1;32m    574\u001b[0m     \u001b[0;32mif\u001b[0m \u001b[0mmulti_output\u001b[0m\u001b[0;34m:\u001b[0m\u001b[0;34m\u001b[0m\u001b[0m\n\u001b[1;32m    575\u001b[0m         y = check_array(y, 'csr', force_all_finite=True, ensure_2d=False,\n",
      "\u001b[0;32m/usr/local/lib/python3.6/site-packages/sklearn/utils/validation.py\u001b[0m in \u001b[0;36mcheck_array\u001b[0;34m(array, accept_sparse, dtype, order, copy, force_all_finite, ensure_2d, allow_nd, ensure_min_samples, ensure_min_features, warn_on_dtype, estimator)\u001b[0m\n\u001b[1;32m    446\u001b[0m         \u001b[0;31m# make sure we actually converted to numeric:\u001b[0m\u001b[0;34m\u001b[0m\u001b[0;34m\u001b[0m\u001b[0m\n\u001b[1;32m    447\u001b[0m         \u001b[0;32mif\u001b[0m \u001b[0mdtype_numeric\u001b[0m \u001b[0;32mand\u001b[0m \u001b[0marray\u001b[0m\u001b[0;34m.\u001b[0m\u001b[0mdtype\u001b[0m\u001b[0;34m.\u001b[0m\u001b[0mkind\u001b[0m \u001b[0;34m==\u001b[0m \u001b[0;34m\"O\"\u001b[0m\u001b[0;34m:\u001b[0m\u001b[0;34m\u001b[0m\u001b[0m\n\u001b[0;32m--> 448\u001b[0;31m             \u001b[0marray\u001b[0m \u001b[0;34m=\u001b[0m \u001b[0marray\u001b[0m\u001b[0;34m.\u001b[0m\u001b[0mastype\u001b[0m\u001b[0;34m(\u001b[0m\u001b[0mnp\u001b[0m\u001b[0;34m.\u001b[0m\u001b[0mfloat64\u001b[0m\u001b[0;34m)\u001b[0m\u001b[0;34m\u001b[0m\u001b[0m\n\u001b[0m\u001b[1;32m    449\u001b[0m         \u001b[0;32mif\u001b[0m \u001b[0;32mnot\u001b[0m \u001b[0mallow_nd\u001b[0m \u001b[0;32mand\u001b[0m \u001b[0marray\u001b[0m\u001b[0;34m.\u001b[0m\u001b[0mndim\u001b[0m \u001b[0;34m>=\u001b[0m \u001b[0;36m3\u001b[0m\u001b[0;34m:\u001b[0m\u001b[0;34m\u001b[0m\u001b[0m\n\u001b[1;32m    450\u001b[0m             raise ValueError(\"Found array with dim %d. %s expected <= 2.\"\n",
      "\u001b[0;31mValueError\u001b[0m: setting an array element with a sequence."
     ]
    }
   ],
   "source": [
    "clf = LinearRegression(normalize= True)\n",
    "clf.fit(X_train, y2_train)\n",
    "print(\"The accuracy of linear regression is: \", clf.score(X_test, y2_test), \"\\nThe RMSLE is: \", rmsle(y2_test, clf.predict(X_test)))"
   ]
  },
  {
   "cell_type": "code",
   "execution_count": null,
   "metadata": {},
   "outputs": [],
   "source": []
  },
  {
   "cell_type": "code",
   "execution_count": 283,
   "metadata": {},
   "outputs": [],
   "source": [
    "def scoring(clf):\n",
    "    scores = cross_val_score(clf, X_train, y2_train, cv=15, n_jobs=1, scoring = 'neg_median_absolute_error')\n",
    "    print (np.median(scores) * -1)"
   ]
  },
  {
   "cell_type": "code",
   "execution_count": null,
   "metadata": {},
   "outputs": [],
   "source": []
  }
 ],
 "metadata": {
  "anaconda-cloud": {},
  "kernelspec": {
   "display_name": "Python 3",
   "language": "python",
   "name": "python3"
  },
  "language_info": {
   "codemirror_mode": {
    "name": "ipython",
    "version": 3
   },
   "file_extension": ".py",
   "mimetype": "text/x-python",
   "name": "python",
   "nbconvert_exporter": "python",
   "pygments_lexer": "ipython3",
   "version": "3.6.4"
  }
 },
 "nbformat": 4,
 "nbformat_minor": 1
}
