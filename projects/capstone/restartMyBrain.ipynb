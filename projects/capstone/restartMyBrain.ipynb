{
 "cells": [
  {
   "cell_type": "code",
   "execution_count": 18,
   "metadata": {},
   "outputs": [
    {
     "name": "stdout",
     "output_type": "stream",
     "text": [
      "austin_bikeshare_stations.csv\n",
      "austin_bikeshare_trips.csv\n",
      "austin_weather.csv\n",
      "\n"
     ]
    }
   ],
   "source": [
    "import numpy as np # linear algebra\n",
    "import pandas as pd # data processing, CSV file I/O (e.g. pd.read_csv)\n",
    "import sklearn as sk # SkLearn ML library\n",
    "from sklearn.model_selection import train_test_split\n",
    "from sklearn import linear_model\n",
    "from sklearn.model_selection import cross_val_score\n",
    "import seaborn as sns\n",
    "import requests\n",
    "from datetime import datetime\n",
    "\n",
    "# Input data files are available in the \"austin-bike\" directory.\n",
    "# For example, running this (by clicking run or pressing Shift+Enter) will list the files in the input directory\n",
    "\n",
    "from subprocess import check_output\n",
    "print(check_output([\"ls\", \"austin-bike\"]).decode(\"utf8\"))\n",
    "\n",
    "# Any results you write to the current directory are saved as output.\n",
    "\n",
    "# load data in \n",
    "\n",
    "trips = pd.read_csv('austin-bike/austin_bikeshare_trips.csv')\n",
    "stations = pd.read_csv('austin-bike/austin_bikeshare_stations.csv')\n",
    "weather = pd.read_csv('austin-bike/austin_weather.csv')\n"
   ]
  },
  {
   "cell_type": "code",
   "execution_count": 4,
   "metadata": {},
   "outputs": [],
   "source": [
    "Rain = []\n",
    "Thunderstorm = []\n",
    "Fog = []\n",
    "Snow = []\n",
    "for row in weather['Events']:\n",
    "    if 'Rain' in row:\n",
    "        Rain.append(1)\n",
    "    else:\n",
    "        Rain.append(0)\n",
    "        \n",
    "    if 'Thunderstorm' in row:\n",
    "        Thunderstorm.append(1)\n",
    "    else:\n",
    "        Thunderstorm.append(0)\n",
    "        \n",
    "    if 'Fog' in row:\n",
    "        Fog.append(1)\n",
    "    else:\n",
    "        Fog.append(0)\n",
    "        \n",
    "    if 'Snow' in row:\n",
    "        Snow.append(1)\n",
    "    else:\n",
    "        Snow.append(0)\n",
    "weather['PrecipitationSumInches'] = np.where(weather['PrecipitationSumInches'] == 'T', 0.001, weather['PrecipitationSumInches'])\n",
    "weather['Rain'] = Rain\n",
    "weather['Thunderstorm'] = Thunderstorm\n",
    "weather['Fog'] = Fog\n",
    "weather['Snow'] = Snow"
   ]
  },
  {
   "cell_type": "code",
   "execution_count": 5,
   "metadata": {},
   "outputs": [
    {
     "data": {
      "text/html": [
       "<div>\n",
       "<style scoped>\n",
       "    .dataframe tbody tr th:only-of-type {\n",
       "        vertical-align: middle;\n",
       "    }\n",
       "\n",
       "    .dataframe tbody tr th {\n",
       "        vertical-align: top;\n",
       "    }\n",
       "\n",
       "    .dataframe thead th {\n",
       "        text-align: right;\n",
       "    }\n",
       "</style>\n",
       "<table border=\"1\" class=\"dataframe\">\n",
       "  <thead>\n",
       "    <tr style=\"text-align: right;\">\n",
       "      <th></th>\n",
       "      <th>Date</th>\n",
       "      <th>TempHighF</th>\n",
       "      <th>TempAvgF</th>\n",
       "      <th>TempLowF</th>\n",
       "      <th>DewPointHighF</th>\n",
       "      <th>DewPointAvgF</th>\n",
       "      <th>DewPointLowF</th>\n",
       "      <th>HumidityHighPercent</th>\n",
       "      <th>HumidityAvgPercent</th>\n",
       "      <th>HumidityLowPercent</th>\n",
       "      <th>...</th>\n",
       "      <th>VisibilityLowMiles</th>\n",
       "      <th>WindHighMPH</th>\n",
       "      <th>WindAvgMPH</th>\n",
       "      <th>WindGustMPH</th>\n",
       "      <th>PrecipitationSumInches</th>\n",
       "      <th>Events</th>\n",
       "      <th>Rain</th>\n",
       "      <th>Thunderstorm</th>\n",
       "      <th>Fog</th>\n",
       "      <th>Snow</th>\n",
       "    </tr>\n",
       "  </thead>\n",
       "  <tbody>\n",
       "    <tr>\n",
       "      <th>0</th>\n",
       "      <td>2013-12-21</td>\n",
       "      <td>74</td>\n",
       "      <td>60</td>\n",
       "      <td>45</td>\n",
       "      <td>67</td>\n",
       "      <td>49</td>\n",
       "      <td>43</td>\n",
       "      <td>93</td>\n",
       "      <td>75</td>\n",
       "      <td>57</td>\n",
       "      <td>...</td>\n",
       "      <td>2</td>\n",
       "      <td>20</td>\n",
       "      <td>4</td>\n",
       "      <td>31</td>\n",
       "      <td>0.46</td>\n",
       "      <td>Rain , Thunderstorm</td>\n",
       "      <td>1</td>\n",
       "      <td>1</td>\n",
       "      <td>0</td>\n",
       "      <td>0</td>\n",
       "    </tr>\n",
       "    <tr>\n",
       "      <th>1</th>\n",
       "      <td>2013-12-22</td>\n",
       "      <td>56</td>\n",
       "      <td>48</td>\n",
       "      <td>39</td>\n",
       "      <td>43</td>\n",
       "      <td>36</td>\n",
       "      <td>28</td>\n",
       "      <td>93</td>\n",
       "      <td>68</td>\n",
       "      <td>43</td>\n",
       "      <td>...</td>\n",
       "      <td>5</td>\n",
       "      <td>16</td>\n",
       "      <td>6</td>\n",
       "      <td>25</td>\n",
       "      <td>0</td>\n",
       "      <td></td>\n",
       "      <td>0</td>\n",
       "      <td>0</td>\n",
       "      <td>0</td>\n",
       "      <td>0</td>\n",
       "    </tr>\n",
       "    <tr>\n",
       "      <th>2</th>\n",
       "      <td>2013-12-23</td>\n",
       "      <td>58</td>\n",
       "      <td>45</td>\n",
       "      <td>32</td>\n",
       "      <td>31</td>\n",
       "      <td>27</td>\n",
       "      <td>23</td>\n",
       "      <td>76</td>\n",
       "      <td>52</td>\n",
       "      <td>27</td>\n",
       "      <td>...</td>\n",
       "      <td>10</td>\n",
       "      <td>8</td>\n",
       "      <td>3</td>\n",
       "      <td>12</td>\n",
       "      <td>0</td>\n",
       "      <td></td>\n",
       "      <td>0</td>\n",
       "      <td>0</td>\n",
       "      <td>0</td>\n",
       "      <td>0</td>\n",
       "    </tr>\n",
       "    <tr>\n",
       "      <th>3</th>\n",
       "      <td>2013-12-24</td>\n",
       "      <td>61</td>\n",
       "      <td>46</td>\n",
       "      <td>31</td>\n",
       "      <td>36</td>\n",
       "      <td>28</td>\n",
       "      <td>21</td>\n",
       "      <td>89</td>\n",
       "      <td>56</td>\n",
       "      <td>22</td>\n",
       "      <td>...</td>\n",
       "      <td>7</td>\n",
       "      <td>12</td>\n",
       "      <td>4</td>\n",
       "      <td>20</td>\n",
       "      <td>0</td>\n",
       "      <td></td>\n",
       "      <td>0</td>\n",
       "      <td>0</td>\n",
       "      <td>0</td>\n",
       "      <td>0</td>\n",
       "    </tr>\n",
       "    <tr>\n",
       "      <th>4</th>\n",
       "      <td>2013-12-25</td>\n",
       "      <td>58</td>\n",
       "      <td>50</td>\n",
       "      <td>41</td>\n",
       "      <td>44</td>\n",
       "      <td>40</td>\n",
       "      <td>36</td>\n",
       "      <td>86</td>\n",
       "      <td>71</td>\n",
       "      <td>56</td>\n",
       "      <td>...</td>\n",
       "      <td>7</td>\n",
       "      <td>10</td>\n",
       "      <td>2</td>\n",
       "      <td>16</td>\n",
       "      <td>0.001</td>\n",
       "      <td></td>\n",
       "      <td>0</td>\n",
       "      <td>0</td>\n",
       "      <td>0</td>\n",
       "      <td>0</td>\n",
       "    </tr>\n",
       "  </tbody>\n",
       "</table>\n",
       "<p>5 rows × 25 columns</p>\n",
       "</div>"
      ],
      "text/plain": [
       "         Date  TempHighF  TempAvgF  TempLowF DewPointHighF DewPointAvgF  \\\n",
       "0  2013-12-21         74        60        45            67           49   \n",
       "1  2013-12-22         56        48        39            43           36   \n",
       "2  2013-12-23         58        45        32            31           27   \n",
       "3  2013-12-24         61        46        31            36           28   \n",
       "4  2013-12-25         58        50        41            44           40   \n",
       "\n",
       "  DewPointLowF HumidityHighPercent HumidityAvgPercent HumidityLowPercent ...   \\\n",
       "0           43                  93                 75                 57 ...    \n",
       "1           28                  93                 68                 43 ...    \n",
       "2           23                  76                 52                 27 ...    \n",
       "3           21                  89                 56                 22 ...    \n",
       "4           36                  86                 71                 56 ...    \n",
       "\n",
       "  VisibilityLowMiles WindHighMPH WindAvgMPH WindGustMPH  \\\n",
       "0                  2          20          4          31   \n",
       "1                  5          16          6          25   \n",
       "2                 10           8          3          12   \n",
       "3                  7          12          4          20   \n",
       "4                  7          10          2          16   \n",
       "\n",
       "  PrecipitationSumInches               Events Rain Thunderstorm Fog Snow  \n",
       "0                   0.46  Rain , Thunderstorm    1            1   0    0  \n",
       "1                      0                         0            0   0    0  \n",
       "2                      0                         0            0   0    0  \n",
       "3                      0                         0            0   0    0  \n",
       "4                  0.001                         0            0   0    0  \n",
       "\n",
       "[5 rows x 25 columns]"
      ]
     },
     "execution_count": 5,
     "metadata": {},
     "output_type": "execute_result"
    }
   ],
   "source": [
    "weather.head()"
   ]
  },
  {
   "cell_type": "code",
   "execution_count": 14,
   "metadata": {},
   "outputs": [
    {
     "data": {
      "text/plain": [
       "0       20\n",
       "1       16\n",
       "2        8\n",
       "3       12\n",
       "4       10\n",
       "5       12\n",
       "6        7\n",
       "7       10\n",
       "8       17\n",
       "9       13\n",
       "10       8\n",
       "11      13\n",
       "12      21\n",
       "13      14\n",
       "14      16\n",
       "15      21\n",
       "16      17\n",
       "17      13\n",
       "18      12\n",
       "19      12\n",
       "20      13\n",
       "21      12\n",
       "22      15\n",
       "23      17\n",
       "24      16\n",
       "25      14\n",
       "26      14\n",
       "27      14\n",
       "28      12\n",
       "29       9\n",
       "        ..\n",
       "1289    14\n",
       "1290    13\n",
       "1291    13\n",
       "1292    13\n",
       "1293    12\n",
       "1294    15\n",
       "1295     9\n",
       "1296    12\n",
       "1297    12\n",
       "1298    14\n",
       "1299    13\n",
       "1300    10\n",
       "1301    15\n",
       "1302    23\n",
       "1303    12\n",
       "1304    16\n",
       "1305    14\n",
       "1306    18\n",
       "1307    14\n",
       "1308    14\n",
       "1309    13\n",
       "1310    13\n",
       "1311    13\n",
       "1312    15\n",
       "1313    15\n",
       "1314    12\n",
       "1315    14\n",
       "1316    12\n",
       "1317    13\n",
       "1318    12\n",
       "Name: WindHighMPH, Length: 1319, dtype: int64"
      ]
     },
     "execution_count": 14,
     "metadata": {},
     "output_type": "execute_result"
    }
   ],
   "source": [
    "# test to see if all values in a column are numeric.\n",
    "pd.to_numeric(weather.WindHighMPH)\n"
   ]
  },
  {
   "cell_type": "code",
   "execution_count": 54,
   "metadata": {},
   "outputs": [
    {
     "name": "stderr",
     "output_type": "stream",
     "text": [
      "/usr/local/lib/python3.6/site-packages/ipykernel_launcher.py:1: SettingWithCopyWarning: \n",
      "A value is trying to be set on a copy of a slice from a DataFrame\n",
      "\n",
      "See the caveats in the documentation: http://pandas.pydata.org/pandas-docs/stable/indexing.html#indexing-view-versus-copy\n",
      "  \"\"\"Entry point for launching an IPython kernel.\n",
      "/usr/local/lib/python3.6/site-packages/ipykernel_launcher.py:2: SettingWithCopyWarning: \n",
      "A value is trying to be set on a copy of a slice from a DataFrame\n",
      "\n",
      "See the caveats in the documentation: http://pandas.pydata.org/pandas-docs/stable/indexing.html#indexing-view-versus-copy\n",
      "  \n",
      "/usr/local/lib/python3.6/site-packages/ipykernel_launcher.py:3: SettingWithCopyWarning: \n",
      "A value is trying to be set on a copy of a slice from a DataFrame\n",
      "\n",
      "See the caveats in the documentation: http://pandas.pydata.org/pandas-docs/stable/indexing.html#indexing-view-versus-copy\n",
      "  This is separate from the ipykernel package so we can avoid doing imports until\n"
     ]
    }
   ],
   "source": [
    "weather.HumidityAvgPercent[weather.HumidityAvgPercent == '-'] = 0\n",
    "weather.WindHighMPH[weather.WindHighMPH == '-'] = 0\n",
    "weather.PrecipitationSumInches[weather.PrecipitationSumInches == 'T'] = 0"
   ]
  },
  {
   "cell_type": "code",
   "execution_count": 19,
   "metadata": {},
   "outputs": [
    {
     "data": {
      "text/html": [
       "<div>\n",
       "<style scoped>\n",
       "    .dataframe tbody tr th:only-of-type {\n",
       "        vertical-align: middle;\n",
       "    }\n",
       "\n",
       "    .dataframe tbody tr th {\n",
       "        vertical-align: top;\n",
       "    }\n",
       "\n",
       "    .dataframe thead th {\n",
       "        text-align: right;\n",
       "    }\n",
       "</style>\n",
       "<table border=\"1\" class=\"dataframe\">\n",
       "  <thead>\n",
       "    <tr style=\"text-align: right;\">\n",
       "      <th></th>\n",
       "      <th>bikeid</th>\n",
       "      <th>checkout_time</th>\n",
       "      <th>duration_minutes</th>\n",
       "      <th>end_station_id</th>\n",
       "      <th>end_station_name</th>\n",
       "      <th>month</th>\n",
       "      <th>start_station_id</th>\n",
       "      <th>start_station_name</th>\n",
       "      <th>start_time</th>\n",
       "      <th>subscriber_type</th>\n",
       "      <th>trip_id</th>\n",
       "      <th>year</th>\n",
       "    </tr>\n",
       "  </thead>\n",
       "  <tbody>\n",
       "    <tr>\n",
       "      <th>0</th>\n",
       "      <td>8.0</td>\n",
       "      <td>19:12:00</td>\n",
       "      <td>41</td>\n",
       "      <td>2565.0</td>\n",
       "      <td>Trinity &amp; 6th Street</td>\n",
       "      <td>3.0</td>\n",
       "      <td>2536.0</td>\n",
       "      <td>Waller &amp; 6th St.</td>\n",
       "      <td>2015-03-19 19:12:00</td>\n",
       "      <td>Walk Up</td>\n",
       "      <td>9900082882</td>\n",
       "      <td>2015.0</td>\n",
       "    </tr>\n",
       "    <tr>\n",
       "      <th>1</th>\n",
       "      <td>141.0</td>\n",
       "      <td>2:06:04</td>\n",
       "      <td>6</td>\n",
       "      <td>2570.0</td>\n",
       "      <td>South Congress &amp; Academy</td>\n",
       "      <td>10.0</td>\n",
       "      <td>2494.0</td>\n",
       "      <td>2nd &amp; Congress</td>\n",
       "      <td>2016-10-30 02:06:04</td>\n",
       "      <td>Local365</td>\n",
       "      <td>12617682</td>\n",
       "      <td>2016.0</td>\n",
       "    </tr>\n",
       "    <tr>\n",
       "      <th>2</th>\n",
       "      <td>578.0</td>\n",
       "      <td>16:28:27</td>\n",
       "      <td>13</td>\n",
       "      <td>2498.0</td>\n",
       "      <td>Convention Center / 4th St. @ MetroRail</td>\n",
       "      <td>3.0</td>\n",
       "      <td>2538.0</td>\n",
       "      <td>Bullock Museum @ Congress &amp; MLK</td>\n",
       "      <td>2016-03-11 16:28:27</td>\n",
       "      <td>Local365</td>\n",
       "      <td>9075366</td>\n",
       "      <td>2016.0</td>\n",
       "    </tr>\n",
       "    <tr>\n",
       "      <th>3</th>\n",
       "      <td>555.0</td>\n",
       "      <td>15:12:00</td>\n",
       "      <td>80</td>\n",
       "      <td>2712.0</td>\n",
       "      <td>Toomey Rd @ South Lamar</td>\n",
       "      <td>11.0</td>\n",
       "      <td>2497.0</td>\n",
       "      <td>Capitol Station / Congress &amp; 11th</td>\n",
       "      <td>2014-11-23 15:12:00</td>\n",
       "      <td>24-Hour Kiosk (Austin B-cycle)</td>\n",
       "      <td>9900319298</td>\n",
       "      <td>2014.0</td>\n",
       "    </tr>\n",
       "    <tr>\n",
       "      <th>4</th>\n",
       "      <td>86.0</td>\n",
       "      <td>15:39:13</td>\n",
       "      <td>25</td>\n",
       "      <td>3377.0</td>\n",
       "      <td>MoPac Pedestrian Bridge @ Veterans Drive</td>\n",
       "      <td>4.0</td>\n",
       "      <td>2707.0</td>\n",
       "      <td>Rainey St @ Cummings</td>\n",
       "      <td>2017-04-16 15:39:13</td>\n",
       "      <td>Walk Up</td>\n",
       "      <td>14468597</td>\n",
       "      <td>2017.0</td>\n",
       "    </tr>\n",
       "  </tbody>\n",
       "</table>\n",
       "</div>"
      ],
      "text/plain": [
       "   bikeid checkout_time  duration_minutes  end_station_id  \\\n",
       "0     8.0      19:12:00                41          2565.0   \n",
       "1   141.0       2:06:04                 6          2570.0   \n",
       "2   578.0      16:28:27                13          2498.0   \n",
       "3   555.0      15:12:00                80          2712.0   \n",
       "4    86.0      15:39:13                25          3377.0   \n",
       "\n",
       "                           end_station_name  month  start_station_id  \\\n",
       "0                      Trinity & 6th Street    3.0            2536.0   \n",
       "1                  South Congress & Academy   10.0            2494.0   \n",
       "2   Convention Center / 4th St. @ MetroRail    3.0            2538.0   \n",
       "3                   Toomey Rd @ South Lamar   11.0            2497.0   \n",
       "4  MoPac Pedestrian Bridge @ Veterans Drive    4.0            2707.0   \n",
       "\n",
       "                  start_station_name           start_time  \\\n",
       "0                   Waller & 6th St.  2015-03-19 19:12:00   \n",
       "1                     2nd & Congress  2016-10-30 02:06:04   \n",
       "2    Bullock Museum @ Congress & MLK  2016-03-11 16:28:27   \n",
       "3  Capitol Station / Congress & 11th  2014-11-23 15:12:00   \n",
       "4               Rainey St @ Cummings  2017-04-16 15:39:13   \n",
       "\n",
       "                  subscriber_type     trip_id    year  \n",
       "0                         Walk Up  9900082882  2015.0  \n",
       "1                        Local365    12617682  2016.0  \n",
       "2                        Local365     9075366  2016.0  \n",
       "3  24-Hour Kiosk (Austin B-cycle)  9900319298  2014.0  \n",
       "4                         Walk Up    14468597  2017.0  "
      ]
     },
     "execution_count": 19,
     "metadata": {},
     "output_type": "execute_result"
    }
   ],
   "source": [
    "trips.head()"
   ]
  },
  {
   "cell_type": "code",
   "execution_count": 23,
   "metadata": {},
   "outputs": [
    {
     "data": {
      "text/plain": [
       "bikeid                  723\n",
       "checkout_time             0\n",
       "duration_minutes          0\n",
       "end_station_id        19842\n",
       "end_station_name          0\n",
       "month                 30752\n",
       "start_station_id      19041\n",
       "start_station_name        0\n",
       "start_time                0\n",
       "subscriber_type        2077\n",
       "trip_id                   0\n",
       "year                  30752\n",
       "dtype: int64"
      ]
     },
     "execution_count": 23,
     "metadata": {},
     "output_type": "execute_result"
    }
   ],
   "source": [
    "pd.to_numeric(trips.start_station_id)\n",
    "trips.isnull().sum()"
   ]
  },
  {
   "cell_type": "code",
   "execution_count": 33,
   "metadata": {},
   "outputs": [],
   "source": [
    "import dateutil.parser\n",
    "t = pd.to_datetime(trips.start_time)\n",
    "trips['month'] = t.map(lambda x: x.month)\n",
    "trips['year'] = t.map(lambda x: x.year)\n"
   ]
  },
  {
   "cell_type": "code",
   "execution_count": 36,
   "metadata": {},
   "outputs": [
    {
     "data": {
      "text/plain": [
       "bikeid                  723\n",
       "checkout_time             0\n",
       "duration_minutes          0\n",
       "end_station_id        19842\n",
       "end_station_name          0\n",
       "month                     0\n",
       "start_station_id      19041\n",
       "start_station_name        0\n",
       "start_time                0\n",
       "subscriber_type        2077\n",
       "trip_id                   0\n",
       "year                      0\n",
       "dtype: int64"
      ]
     },
     "execution_count": 36,
     "metadata": {},
     "output_type": "execute_result"
    }
   ],
   "source": [
    "trips.isnull().sum()"
   ]
  },
  {
   "cell_type": "code",
   "execution_count": 127,
   "metadata": {},
   "outputs": [],
   "source": [
    "dailyStats = pd.DataFrame()\n",
    "dailyStats['date'] = weather['Date'].values.tolist()\n",
    "dailyStats['TempAvgF'] = weather['TempAvgF'].values.tolist()\n",
    "dailyStats['Humidity'] = weather['HumidityAvgPercent'].values.tolist()\n",
    "dailyStats['WindMPH'] = weather['WindHighMPH'].values.tolist()\n",
    "dailyStats['Precipitation'] = weather['PrecipitationSumInches'].values.tolist()\n",
    "dailyStats['Rain'] = Rain\n",
    "dailyStats['Fog'] = Fog\n",
    "dailyStats['Thunderstorm'] = Thunderstorm\n",
    "dailyStats['Snow'] = Snow\n"
   ]
  },
  {
   "cell_type": "code",
   "execution_count": 128,
   "metadata": {},
   "outputs": [
    {
     "data": {
      "text/html": [
       "<div>\n",
       "<style scoped>\n",
       "    .dataframe tbody tr th:only-of-type {\n",
       "        vertical-align: middle;\n",
       "    }\n",
       "\n",
       "    .dataframe tbody tr th {\n",
       "        vertical-align: top;\n",
       "    }\n",
       "\n",
       "    .dataframe thead th {\n",
       "        text-align: right;\n",
       "    }\n",
       "</style>\n",
       "<table border=\"1\" class=\"dataframe\">\n",
       "  <thead>\n",
       "    <tr style=\"text-align: right;\">\n",
       "      <th></th>\n",
       "      <th>date</th>\n",
       "      <th>TempAvgF</th>\n",
       "      <th>Humidity</th>\n",
       "      <th>WindMPH</th>\n",
       "      <th>Precipitation</th>\n",
       "      <th>Rain</th>\n",
       "      <th>Fog</th>\n",
       "      <th>Thunderstorm</th>\n",
       "      <th>Snow</th>\n",
       "    </tr>\n",
       "  </thead>\n",
       "  <tbody>\n",
       "    <tr>\n",
       "      <th>1314</th>\n",
       "      <td>2017-07-27</td>\n",
       "      <td>89</td>\n",
       "      <td>54</td>\n",
       "      <td>12</td>\n",
       "      <td>0</td>\n",
       "      <td>0</td>\n",
       "      <td>0</td>\n",
       "      <td>0</td>\n",
       "      <td>0</td>\n",
       "    </tr>\n",
       "    <tr>\n",
       "      <th>1315</th>\n",
       "      <td>2017-07-28</td>\n",
       "      <td>91</td>\n",
       "      <td>54</td>\n",
       "      <td>14</td>\n",
       "      <td>0</td>\n",
       "      <td>0</td>\n",
       "      <td>0</td>\n",
       "      <td>0</td>\n",
       "      <td>0</td>\n",
       "    </tr>\n",
       "    <tr>\n",
       "      <th>1316</th>\n",
       "      <td>2017-07-29</td>\n",
       "      <td>92</td>\n",
       "      <td>51</td>\n",
       "      <td>12</td>\n",
       "      <td>0</td>\n",
       "      <td>0</td>\n",
       "      <td>0</td>\n",
       "      <td>0</td>\n",
       "      <td>0</td>\n",
       "    </tr>\n",
       "    <tr>\n",
       "      <th>1317</th>\n",
       "      <td>2017-07-30</td>\n",
       "      <td>93</td>\n",
       "      <td>48</td>\n",
       "      <td>13</td>\n",
       "      <td>0</td>\n",
       "      <td>0</td>\n",
       "      <td>0</td>\n",
       "      <td>0</td>\n",
       "      <td>0</td>\n",
       "    </tr>\n",
       "    <tr>\n",
       "      <th>1318</th>\n",
       "      <td>2017-07-31</td>\n",
       "      <td>88</td>\n",
       "      <td>43</td>\n",
       "      <td>12</td>\n",
       "      <td>0</td>\n",
       "      <td>0</td>\n",
       "      <td>0</td>\n",
       "      <td>0</td>\n",
       "      <td>0</td>\n",
       "    </tr>\n",
       "  </tbody>\n",
       "</table>\n",
       "</div>"
      ],
      "text/plain": [
       "            date  TempAvgF Humidity WindMPH Precipitation  Rain  Fog  \\\n",
       "1314  2017-07-27        89       54      12             0     0    0   \n",
       "1315  2017-07-28        91       54      14             0     0    0   \n",
       "1316  2017-07-29        92       51      12             0     0    0   \n",
       "1317  2017-07-30        93       48      13             0     0    0   \n",
       "1318  2017-07-31        88       43      12             0     0    0   \n",
       "\n",
       "      Thunderstorm  Snow  \n",
       "1314             0     0  \n",
       "1315             0     0  \n",
       "1316             0     0  \n",
       "1317             0     0  \n",
       "1318             0     0  "
      ]
     },
     "execution_count": 128,
     "metadata": {},
     "output_type": "execute_result"
    }
   ],
   "source": [
    "dailyStats.tail()"
   ]
  },
  {
   "cell_type": "code",
   "execution_count": 115,
   "metadata": {},
   "outputs": [
    {
     "data": {
      "text/html": [
       "<div>\n",
       "<style scoped>\n",
       "    .dataframe tbody tr th:only-of-type {\n",
       "        vertical-align: middle;\n",
       "    }\n",
       "\n",
       "    .dataframe tbody tr th {\n",
       "        vertical-align: top;\n",
       "    }\n",
       "\n",
       "    .dataframe thead th {\n",
       "        text-align: right;\n",
       "    }\n",
       "</style>\n",
       "<table border=\"1\" class=\"dataframe\">\n",
       "  <thead>\n",
       "    <tr style=\"text-align: right;\">\n",
       "      <th></th>\n",
       "      <th>TempAvgF</th>\n",
       "      <th>Humidity</th>\n",
       "      <th>WindMPH</th>\n",
       "      <th>Precipitation</th>\n",
       "      <th>Rain</th>\n",
       "      <th>Fog</th>\n",
       "      <th>Thunderstorm</th>\n",
       "      <th>Snow</th>\n",
       "      <th>Month</th>\n",
       "      <th>Year</th>\n",
       "      <th>weekend</th>\n",
       "    </tr>\n",
       "  </thead>\n",
       "  <tbody>\n",
       "    <tr>\n",
       "      <th>0</th>\n",
       "      <td>60</td>\n",
       "      <td>75</td>\n",
       "      <td>20</td>\n",
       "      <td>0.46</td>\n",
       "      <td>1</td>\n",
       "      <td>0</td>\n",
       "      <td>1</td>\n",
       "      <td>0</td>\n",
       "      <td>3</td>\n",
       "      <td>2015</td>\n",
       "      <td>0</td>\n",
       "    </tr>\n",
       "    <tr>\n",
       "      <th>1</th>\n",
       "      <td>48</td>\n",
       "      <td>68</td>\n",
       "      <td>16</td>\n",
       "      <td>0</td>\n",
       "      <td>0</td>\n",
       "      <td>0</td>\n",
       "      <td>0</td>\n",
       "      <td>0</td>\n",
       "      <td>10</td>\n",
       "      <td>2016</td>\n",
       "      <td>1</td>\n",
       "    </tr>\n",
       "    <tr>\n",
       "      <th>2</th>\n",
       "      <td>45</td>\n",
       "      <td>52</td>\n",
       "      <td>8</td>\n",
       "      <td>0</td>\n",
       "      <td>0</td>\n",
       "      <td>0</td>\n",
       "      <td>0</td>\n",
       "      <td>0</td>\n",
       "      <td>3</td>\n",
       "      <td>2016</td>\n",
       "      <td>0</td>\n",
       "    </tr>\n",
       "    <tr>\n",
       "      <th>3</th>\n",
       "      <td>46</td>\n",
       "      <td>56</td>\n",
       "      <td>12</td>\n",
       "      <td>0</td>\n",
       "      <td>0</td>\n",
       "      <td>0</td>\n",
       "      <td>0</td>\n",
       "      <td>0</td>\n",
       "      <td>11</td>\n",
       "      <td>2014</td>\n",
       "      <td>1</td>\n",
       "    </tr>\n",
       "    <tr>\n",
       "      <th>4</th>\n",
       "      <td>50</td>\n",
       "      <td>71</td>\n",
       "      <td>10</td>\n",
       "      <td>0</td>\n",
       "      <td>0</td>\n",
       "      <td>0</td>\n",
       "      <td>0</td>\n",
       "      <td>0</td>\n",
       "      <td>4</td>\n",
       "      <td>2017</td>\n",
       "      <td>1</td>\n",
       "    </tr>\n",
       "  </tbody>\n",
       "</table>\n",
       "</div>"
      ],
      "text/plain": [
       "   TempAvgF Humidity WindMPH Precipitation  Rain  Fog  Thunderstorm  Snow  \\\n",
       "0        60       75      20          0.46     1    0             1     0   \n",
       "1        48       68      16             0     0    0             0     0   \n",
       "2        45       52       8             0     0    0             0     0   \n",
       "3        46       56      12             0     0    0             0     0   \n",
       "4        50       71      10             0     0    0             0     0   \n",
       "\n",
       "   Month  Year  weekend  \n",
       "0      3  2015        0  \n",
       "1     10  2016        1  \n",
       "2      3  2016        0  \n",
       "3     11  2014        1  \n",
       "4      4  2017        1  "
      ]
     },
     "execution_count": 115,
     "metadata": {},
     "output_type": "execute_result"
    }
   ],
   "source": [
    "dailyStats['Month'] = t.map(lambda x: x.month)\n",
    "dailyStats['Year'] = t.map(lambda x: x.year)\n",
    "dailyStats['weekend'] = t.map(lambda x: 1 if x.dayofweek > 4 else 0)\n",
    "del dailyStats['date']\n",
    "dailyStats.head()"
   ]
  },
  {
   "cell_type": "code",
   "execution_count": 118,
   "metadata": {},
   "outputs": [
    {
     "data": {
      "text/plain": [
       "1107"
      ]
     },
     "execution_count": 118,
     "metadata": {},
     "output_type": "execute_result"
    }
   ],
   "source": [
    "X_train = dailyStats[dailyStats.index<1107]\n",
    "X_test = dailyStats[dailyStats.index>=1107]\n",
    "len(X_train)"
   ]
  },
  {
   "cell_type": "markdown",
   "metadata": {},
   "source": [
    "## daily trip aggregates\n"
   ]
  },
  {
   "cell_type": "code",
   "execution_count": 129,
   "metadata": {},
   "outputs": [
    {
     "data": {
      "text/plain": [
       "2017-07-27    370\n",
       "2017-07-28    402\n",
       "2017-07-29    425\n",
       "2017-07-30    365\n",
       "2017-07-31    344\n",
       "Freq: D, Name: date, dtype: int64"
      ]
     },
     "execution_count": 129,
     "metadata": {},
     "output_type": "execute_result"
    }
   ],
   "source": [
    "# add a date column that contains \n",
    "import dateutil.parser\n",
    "trips['date'] = trips['start_time'].map(lambda x: dateutil.parser.parse(x).date())\n",
    "trips['date'] = trips['date'].map(lambda x: x.strftime('%Y-%m-%d'))\n",
    "\n",
    "idx = pd.date_range('2013-12-21', '2017-07-31')\n",
    "\n",
    "tripCount = trips.date.value_counts()\n",
    "tripCount.index = pd.DatetimeIndex(tripCount.index)\n",
    "tripCount = tripCount.reindex(idx, fill_value=0)\n",
    "\n",
    "tripCount.sort_index(inplace=True)\n",
    "tripCount.tail()\n"
   ]
  },
  {
   "cell_type": "code",
   "execution_count": 132,
   "metadata": {},
   "outputs": [],
   "source": [
    "tripCount.reset_index(drop=True,inplace=True)"
   ]
  },
  {
   "cell_type": "code",
   "execution_count": 131,
   "metadata": {},
   "outputs": [
    {
     "name": "stdout",
     "output_type": "stream",
     "text": [
      "1319\n",
      "1319\n"
     ]
    }
   ],
   "source": [
    "print(len(tripCount))\n",
    "print(len(dailyStats))"
   ]
  },
  {
   "cell_type": "code",
   "execution_count": 133,
   "metadata": {},
   "outputs": [],
   "source": [
    "y_train = tripCount[tripCount.index<1107]\n",
    "y_test = tripCount[tripCount.index>=1107]"
   ]
  },
  {
   "cell_type": "code",
   "execution_count": 134,
   "metadata": {},
   "outputs": [
    {
     "name": "stdout",
     "output_type": "stream",
     "text": [
      "212\n",
      "212\n"
     ]
    }
   ],
   "source": [
    "print(len(y_test))\n",
    "print(len(X_test))"
   ]
  },
  {
   "cell_type": "markdown",
   "metadata": {},
   "source": [
    "## start some machine learning!"
   ]
  },
  {
   "cell_type": "code",
   "execution_count": 144,
   "metadata": {},
   "outputs": [],
   "source": [
    "# import our machine learning libraries\n",
    "from sklearn.linear_model import LinearRegression\n",
    "from sklearn.linear_model import Ridge\n",
    "from sklearn.linear_model import Lasso\n",
    "from sklearn.tree import DecisionTreeRegressor\n",
    "from sklearn.ensemble import RandomForestRegressor, GradientBoostingRegressor, AdaBoostRegressor\n",
    "from sklearn.svm import SVR\n",
    "from sklearn import model_selection, preprocessing"
   ]
  },
  {
   "cell_type": "code",
   "execution_count": 98,
   "metadata": {},
   "outputs": [],
   "source": [
    "# define function for measuring error\n",
    "# this function will be how we measure error\n",
    "# it is the root mean squared logarithmic error\n",
    "def rmsle(y, y_):\n",
    "    log1 = np.nan_to_num(np.array([np.log(v + 1) for v in y]))\n",
    "    log2 = np.nan_to_num(np.array([np.log(v + 1) for v in y_]))\n",
    "    calc = (log1 - log2) ** 2\n",
    "    return np.sqrt(np.mean(calc))"
   ]
  },
  {
   "cell_type": "code",
   "execution_count": 135,
   "metadata": {},
   "outputs": [
    {
     "name": "stdout",
     "output_type": "stream",
     "text": [
      "The accuracy of linear regression is:  -0.059325701874802794 \n",
      "The RMSLE is:  0.4865263482974606\n"
     ]
    }
   ],
   "source": [
    "clf = LinearRegression(normalize= True)\n",
    "clf.fit(X_train, y_train)\n",
    "print(\"The accuracy of linear regression is: \", clf.score(X_test, y_test), \"\\nThe RMSLE is: \", rmsle(y_test, clf.predict(X_test)))"
   ]
  },
  {
   "cell_type": "code",
   "execution_count": 142,
   "metadata": {},
   "outputs": [
    {
     "name": "stdout",
     "output_type": "stream",
     "text": [
      "The accuracy of linear regression is:  -0.0593965261177094 \n",
      "The RMSLE is:  0.48654094076424653\n"
     ]
    }
   ],
   "source": [
    "clf = Ridge(alpha=0.1)\n",
    "clf.fit(X_train, y_train)\n",
    "print(\"The accuracy of linear regression is: \", clf.score(X_test, y_test), \"\\nThe RMSLE is: \", rmsle(y_test, clf.predict(X_test)))"
   ]
  },
  {
   "cell_type": "code",
   "execution_count": 143,
   "metadata": {},
   "outputs": [
    {
     "name": "stdout",
     "output_type": "stream",
     "text": [
      "The accuracy of linear regression is:  -0.059576455608631555 \n",
      "The RMSLE is:  0.48648592495913273\n"
     ]
    }
   ],
   "source": [
    "clf = Lasso(alpha=0.1)\n",
    "clf.fit(X_train, y_train)\n",
    "print(\"The accuracy of linear regression is: \", clf.score(X_test, y_test), \"\\nThe RMSLE is: \", rmsle(y_test, clf.predict(X_test)))"
   ]
  },
  {
   "cell_type": "code",
   "execution_count": 136,
   "metadata": {},
   "outputs": [
    {
     "name": "stdout",
     "output_type": "stream",
     "text": [
      "The accuracy of Decision Tree Regressor is:  -1.8527043781591226 \n",
      "The RMSLE is:  1.9737036677801423\n"
     ]
    }
   ],
   "source": [
    "clf = DecisionTreeRegressor()\n",
    "clf.fit(X_train, y_train)\n",
    "print(\"The accuracy of Decision Tree Regressor is: \", clf.score(X_test, y_test), \"\\nThe RMSLE is: \", rmsle(y_test, clf.predict(X_test)))"
   ]
  },
  {
   "cell_type": "code",
   "execution_count": 137,
   "metadata": {},
   "outputs": [
    {
     "name": "stdout",
     "output_type": "stream",
     "text": [
      "The accuracy of Random Forest Regressor is:  -0.07881339262594445 \n",
      "The RMSLE is:  0.5079731708543583\n"
     ]
    }
   ],
   "source": [
    "clf = RandomForestRegressor(n_estimators= 200)\n",
    "clf.fit(X_train, y_train)\n",
    "print('The accuracy of Random Forest Regressor is: ', clf.score(X_test, y_test), \"\\nThe RMSLE is: \", rmsle(y_test, clf.predict(X_test)))"
   ]
  },
  {
   "cell_type": "code",
   "execution_count": null,
   "metadata": {},
   "outputs": [],
   "source": []
  }
 ],
 "metadata": {
  "kernelspec": {
   "display_name": "Python 3",
   "language": "python",
   "name": "python3"
  },
  "language_info": {
   "codemirror_mode": {
    "name": "ipython",
    "version": 3
   },
   "file_extension": ".py",
   "mimetype": "text/x-python",
   "name": "python",
   "nbconvert_exporter": "python",
   "pygments_lexer": "ipython3",
   "version": "3.6.4"
  }
 },
 "nbformat": 4,
 "nbformat_minor": 2
}
